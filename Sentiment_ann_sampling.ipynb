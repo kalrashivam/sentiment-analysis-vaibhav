{
 "cells": [
  {
   "cell_type": "code",
   "execution_count": 106,
   "metadata": {},
   "outputs": [],
   "source": [
    "import numpy as np\n",
    "import pandas as pd\n",
    "import matplotlib.pyplot as plt\n",
    "import tensorflow\n",
    "import keras\n",
    "%matplotlib inline"
   ]
  },
  {
   "cell_type": "code",
   "execution_count": 107,
   "metadata": {
    "collapsed": true
   },
   "outputs": [],
   "source": [
    "df = pd.read_csv('train_E6oV3lV.csv')"
   ]
  },
  {
   "cell_type": "code",
   "execution_count": 108,
   "metadata": {},
   "outputs": [
    {
     "data": {
      "text/html": [
       "<div>\n",
       "<style>\n",
       "    .dataframe thead tr:only-child th {\n",
       "        text-align: right;\n",
       "    }\n",
       "\n",
       "    .dataframe thead th {\n",
       "        text-align: left;\n",
       "    }\n",
       "\n",
       "    .dataframe tbody tr th {\n",
       "        vertical-align: top;\n",
       "    }\n",
       "</style>\n",
       "<table border=\"1\" class=\"dataframe\">\n",
       "  <thead>\n",
       "    <tr style=\"text-align: right;\">\n",
       "      <th></th>\n",
       "      <th>id</th>\n",
       "      <th>label</th>\n",
       "      <th>tweet</th>\n",
       "    </tr>\n",
       "  </thead>\n",
       "  <tbody>\n",
       "    <tr>\n",
       "      <th>0</th>\n",
       "      <td>1</td>\n",
       "      <td>0</td>\n",
       "      <td>@user when a father is dysfunctional and is s...</td>\n",
       "    </tr>\n",
       "    <tr>\n",
       "      <th>1</th>\n",
       "      <td>2</td>\n",
       "      <td>0</td>\n",
       "      <td>@user @user thanks for #lyft credit i can't us...</td>\n",
       "    </tr>\n",
       "    <tr>\n",
       "      <th>2</th>\n",
       "      <td>3</td>\n",
       "      <td>0</td>\n",
       "      <td>bihday your majesty</td>\n",
       "    </tr>\n",
       "    <tr>\n",
       "      <th>3</th>\n",
       "      <td>4</td>\n",
       "      <td>0</td>\n",
       "      <td>#model   i love u take with u all the time in ...</td>\n",
       "    </tr>\n",
       "    <tr>\n",
       "      <th>4</th>\n",
       "      <td>5</td>\n",
       "      <td>0</td>\n",
       "      <td>factsguide: society now    #motivation</td>\n",
       "    </tr>\n",
       "  </tbody>\n",
       "</table>\n",
       "</div>"
      ],
      "text/plain": [
       "   id  label                                              tweet\n",
       "0   1      0   @user when a father is dysfunctional and is s...\n",
       "1   2      0  @user @user thanks for #lyft credit i can't us...\n",
       "2   3      0                                bihday your majesty\n",
       "3   4      0  #model   i love u take with u all the time in ...\n",
       "4   5      0             factsguide: society now    #motivation"
      ]
     },
     "execution_count": 108,
     "metadata": {},
     "output_type": "execute_result"
    }
   ],
   "source": [
    "df.head()"
   ]
  },
  {
   "cell_type": "code",
   "execution_count": 109,
   "metadata": {},
   "outputs": [
    {
     "data": {
      "text/html": [
       "<div>\n",
       "<style>\n",
       "    .dataframe thead tr:only-child th {\n",
       "        text-align: right;\n",
       "    }\n",
       "\n",
       "    .dataframe thead th {\n",
       "        text-align: left;\n",
       "    }\n",
       "\n",
       "    .dataframe tbody tr th {\n",
       "        vertical-align: top;\n",
       "    }\n",
       "</style>\n",
       "<table border=\"1\" class=\"dataframe\">\n",
       "  <thead>\n",
       "    <tr style=\"text-align: right;\">\n",
       "      <th></th>\n",
       "      <th>id</th>\n",
       "      <th>tweet</th>\n",
       "    </tr>\n",
       "    <tr>\n",
       "      <th>label</th>\n",
       "      <th></th>\n",
       "      <th></th>\n",
       "    </tr>\n",
       "  </thead>\n",
       "  <tbody>\n",
       "    <tr>\n",
       "      <th>0</th>\n",
       "      <td>29720</td>\n",
       "      <td>29720</td>\n",
       "    </tr>\n",
       "    <tr>\n",
       "      <th>1</th>\n",
       "      <td>2242</td>\n",
       "      <td>2242</td>\n",
       "    </tr>\n",
       "  </tbody>\n",
       "</table>\n",
       "</div>"
      ],
      "text/plain": [
       "          id  tweet\n",
       "label              \n",
       "0      29720  29720\n",
       "1       2242   2242"
      ]
     },
     "execution_count": 109,
     "metadata": {},
     "output_type": "execute_result"
    }
   ],
   "source": [
    "df.groupby('label').count()"
   ]
  },
  {
   "cell_type": "code",
   "execution_count": 110,
   "metadata": {
    "collapsed": true
   },
   "outputs": [],
   "source": [
    "df1 = df.query('label==1').sample(frac=1.0)"
   ]
  },
  {
   "cell_type": "code",
   "execution_count": 111,
   "metadata": {},
   "outputs": [
    {
     "data": {
      "text/plain": [
       "(2242, 3)"
      ]
     },
     "execution_count": 111,
     "metadata": {},
     "output_type": "execute_result"
    }
   ],
   "source": [
    "df1.shape"
   ]
  },
  {
   "cell_type": "code",
   "execution_count": 112,
   "metadata": {},
   "outputs": [
    {
     "data": {
      "text/html": [
       "<div>\n",
       "<style>\n",
       "    .dataframe thead tr:only-child th {\n",
       "        text-align: right;\n",
       "    }\n",
       "\n",
       "    .dataframe thead th {\n",
       "        text-align: left;\n",
       "    }\n",
       "\n",
       "    .dataframe tbody tr th {\n",
       "        vertical-align: top;\n",
       "    }\n",
       "</style>\n",
       "<table border=\"1\" class=\"dataframe\">\n",
       "  <thead>\n",
       "    <tr style=\"text-align: right;\">\n",
       "      <th></th>\n",
       "      <th>id</th>\n",
       "      <th>tweet</th>\n",
       "    </tr>\n",
       "    <tr>\n",
       "      <th>label</th>\n",
       "      <th></th>\n",
       "      <th></th>\n",
       "    </tr>\n",
       "  </thead>\n",
       "  <tbody>\n",
       "    <tr>\n",
       "      <th>0</th>\n",
       "      <td>29720</td>\n",
       "      <td>29720</td>\n",
       "    </tr>\n",
       "    <tr>\n",
       "      <th>1</th>\n",
       "      <td>4484</td>\n",
       "      <td>4484</td>\n",
       "    </tr>\n",
       "  </tbody>\n",
       "</table>\n",
       "</div>"
      ],
      "text/plain": [
       "          id  tweet\n",
       "label              \n",
       "0      29720  29720\n",
       "1       4484   4484"
      ]
     },
     "execution_count": 112,
     "metadata": {},
     "output_type": "execute_result"
    }
   ],
   "source": [
    "n_df = pd.concat([df,df1],ignore_index=True)\n",
    "n_df.groupby('label').count()"
   ]
  },
  {
   "cell_type": "code",
   "execution_count": 113,
   "metadata": {
    "collapsed": true
   },
   "outputs": [],
   "source": [
    "count_class_0, count_class_1 = df['label'].value_counts()"
   ]
  },
  {
   "cell_type": "code",
   "execution_count": 114,
   "metadata": {
    "collapsed": true
   },
   "outputs": [],
   "source": [
    "df_class_0 =  df.query('label==0')\n",
    "df_class_1 =  df.query('label==1')"
   ]
  },
  {
   "cell_type": "code",
   "execution_count": 115,
   "metadata": {
    "collapsed": true
   },
   "outputs": [],
   "source": [
    "df_class_0_under = df_class_0.sample(count_class_1)\n",
    "df_under = pd.concat([df_class_0_under, df_class_1],ignore_index=True ,axis=0)"
   ]
  },
  {
   "cell_type": "code",
   "execution_count": 116,
   "metadata": {},
   "outputs": [
    {
     "data": {
      "text/plain": [
       "(4484, 3)"
      ]
     },
     "execution_count": 116,
     "metadata": {},
     "output_type": "execute_result"
    }
   ],
   "source": [
    "df_under.shape"
   ]
  },
  {
   "cell_type": "code",
   "execution_count": 117,
   "metadata": {},
   "outputs": [
    {
     "data": {
      "text/html": [
       "<div>\n",
       "<style>\n",
       "    .dataframe thead tr:only-child th {\n",
       "        text-align: right;\n",
       "    }\n",
       "\n",
       "    .dataframe thead th {\n",
       "        text-align: left;\n",
       "    }\n",
       "\n",
       "    .dataframe tbody tr th {\n",
       "        vertical-align: top;\n",
       "    }\n",
       "</style>\n",
       "<table border=\"1\" class=\"dataframe\">\n",
       "  <thead>\n",
       "    <tr style=\"text-align: right;\">\n",
       "      <th></th>\n",
       "      <th>id</th>\n",
       "      <th>tweet</th>\n",
       "    </tr>\n",
       "    <tr>\n",
       "      <th>label</th>\n",
       "      <th></th>\n",
       "      <th></th>\n",
       "    </tr>\n",
       "  </thead>\n",
       "  <tbody>\n",
       "    <tr>\n",
       "      <th>0</th>\n",
       "      <td>2242</td>\n",
       "      <td>2242</td>\n",
       "    </tr>\n",
       "    <tr>\n",
       "      <th>1</th>\n",
       "      <td>2242</td>\n",
       "      <td>2242</td>\n",
       "    </tr>\n",
       "  </tbody>\n",
       "</table>\n",
       "</div>"
      ],
      "text/plain": [
       "         id  tweet\n",
       "label             \n",
       "0      2242   2242\n",
       "1      2242   2242"
      ]
     },
     "execution_count": 117,
     "metadata": {},
     "output_type": "execute_result"
    }
   ],
   "source": [
    "df_under.groupby('label').count()"
   ]
  },
  {
   "cell_type": "code",
   "execution_count": 118,
   "metadata": {
    "collapsed": true
   },
   "outputs": [],
   "source": [
    "df = df_under"
   ]
  },
  {
   "cell_type": "code",
   "execution_count": 119,
   "metadata": {
    "collapsed": true
   },
   "outputs": [],
   "source": [
    "X = df['tweet']\n",
    "Y = df['label']\n",
    "Y_org = Y"
   ]
  },
  {
   "cell_type": "code",
   "execution_count": 120,
   "metadata": {
    "collapsed": true
   },
   "outputs": [],
   "source": [
    "from keras.preprocessing.text import Tokenizer\n",
    "max_features = 10000\n",
    "tokenizer = Tokenizer(num_words=max_features, filters='!\"#$%&()*+,-./:;<=>?@[\\]^_`{|}~', split=' ', lower=True, char_level=False, oov_token=None)\n",
    "tokenizer.fit_on_texts(X.values)\n",
    "X = tokenizer.texts_to_sequences(X.values)\n",
    "\n",
    "# add padding\n",
    "from keras.preprocessing.sequence import pad_sequences\n",
    "X = pad_sequences(X, maxlen=400)"
   ]
  },
  {
   "cell_type": "code",
   "execution_count": 121,
   "metadata": {},
   "outputs": [
    {
     "data": {
      "text/plain": [
       "' @user #cuandojuegachilemepongo   ð\\x9f\\x92\\x83 saaaaaaaaa shhhhhhhe iiiiiiið\\x9f\\x87¨ð\\x9f\\x87±ð\\x9f\\x87¨ð\\x9f\\x87±ð\\x9f\\x87¨ð\\x9f\\x87±ð\\x9f\\x87¨ð\\x9f\\x87±ð\\x9f\\x87¨ð\\x9f\\x87± #vamoschile #vamoschilecarajo #copaamerica  â\\x9d¤ï¸\\x8f'"
      ]
     },
     "execution_count": 121,
     "metadata": {},
     "output_type": "execute_result"
    }
   ],
   "source": [
    "max(df['tweet'], key=len)"
   ]
  },
  {
   "cell_type": "code",
   "execution_count": 122,
   "metadata": {},
   "outputs": [
    {
     "name": "stderr",
     "output_type": "stream",
     "text": [
      "/home/shivam/.conda/envs/my_root/lib/python3.6/site-packages/sklearn/utils/validation.py:475: DataConversionWarning: Data with input dtype int32 was converted to float64 by StandardScaler.\n",
      "  warnings.warn(msg, DataConversionWarning)\n"
     ]
    }
   ],
   "source": [
    "from sklearn.preprocessing import StandardScaler\n",
    "scaler = StandardScaler()\n",
    "X = scaler.fit(X).transform(X)"
   ]
  },
  {
   "cell_type": "code",
   "execution_count": 123,
   "metadata": {
    "collapsed": true
   },
   "outputs": [],
   "source": [
    "from sklearn.decomposition import PCA\n",
    "pca = PCA(n_components = 35)\n",
    "pca.fit(X)\n",
    "X = pca.transform(X);"
   ]
  },
  {
   "cell_type": "code",
   "execution_count": 124,
   "metadata": {},
   "outputs": [
    {
     "data": {
      "image/png": "[encoded data removed]",
      "text/plain": [
       "<matplotlib.figure.Figure at 0x7efd3c861518>"
      ]
     },
     "metadata": {},
     "output_type": "display_data"
    }
   ],
   "source": [
    "plt.plot(np.cumsum(pca.explained_variance_ratio_)*100)\n",
    "plt.xlabel(\"No. of components\")\n",
    "plt.ylabel(\"cummulative explained Variance\");"
   ]
  },
  {
   "cell_type": "code",
   "execution_count": 125,
   "metadata": {
    "collapsed": true
   },
   "outputs": [],
   "source": [
    "from sklearn.model_selection import train_test_split\n",
    "X_train,X_test,Y_train,Y_test = train_test_split(X,Y,test_size = 0.2, random_state= 42)"
   ]
  },
  {
   "cell_type": "code",
   "execution_count": 126,
   "metadata": {
    "collapsed": true
   },
   "outputs": [],
   "source": [
    "from keras.models import Sequential\n",
    "from keras.layers import Dense\n",
    "from keras.layers import Dropout"
   ]
  },
  {
   "cell_type": "code",
   "execution_count": 127,
   "metadata": {
    "collapsed": true
   },
   "outputs": [],
   "source": [
    "classifier = Sequential()\n",
    "classifier.add(Dense(units= 20,kernel_initializer= 'uniform', activation='relu' ,input_dim =X.shape[1]))\n",
    "classifier.add(Dropout(0.1))"
   ]
  },
  {
   "cell_type": "code",
   "execution_count": 128,
   "metadata": {
    "collapsed": true
   },
   "outputs": [],
   "source": [
    "classifier.add(Dense(units= 20,kernel_initializer= 'uniform', activation='relu'))\n",
    "classifier.add(Dropout(0.1))\n",
    "classifier.add(Dense(units= 20,kernel_initializer= 'uniform', activation='relu'))\n",
    "classifier.add(Dropout(0.2))\n",
    "classifier.add(Dense(2,kernel_initializer='uniform', activation='sigmoid'))"
   ]
  },
  {
   "cell_type": "code",
   "execution_count": 129,
   "metadata": {
    "collapsed": true
   },
   "outputs": [],
   "source": [
    "classifier.compile(optimizer='adam', loss='binary_crossentropy', metrics= ['accuracy'])"
   ]
  },
  {
   "cell_type": "code",
   "execution_count": 130,
   "metadata": {},
   "outputs": [
    {
     "name": "stderr",
     "output_type": "stream",
     "text": [
      "/home/shivam/.conda/envs/my_root/lib/python3.6/site-packages/ipykernel_launcher.py:5: FutureWarning: reshape is deprecated and will raise in a subsequent release. Please use .values.reshape(...) instead\n",
      "  \"\"\"\n",
      "/home/shivam/.conda/envs/my_root/lib/python3.6/site-packages/ipykernel_launcher.py:6: FutureWarning: reshape is deprecated and will raise in a subsequent release. Please use .values.reshape(...) instead\n",
      "  \n"
     ]
    }
   ],
   "source": [
    "from sklearn.preprocessing import OneHotEncoder\n",
    "y_e = OneHotEncoder()\n",
    "Y_train_org = Y_train\n",
    "Y_test_org = Y_test\n",
    "Y_train = Y_train.reshape(-1, 1)\n",
    "Y_test = Y_test.reshape(-1, 1)\n",
    "y_e.fit(Y_train)\n",
    "Y_train = y_e.transform(Y_train)\n",
    "Y_test = y_e.transform(Y_test)"
   ]
  },
  {
   "cell_type": "code",
   "execution_count": 131,
   "metadata": {},
   "outputs": [
    {
     "data": {
      "text/plain": [
       "<3587x2 sparse matrix of type '<class 'numpy.float64'>'\n",
       "\twith 3587 stored elements in Compressed Sparse Row format>"
      ]
     },
     "execution_count": 131,
     "metadata": {},
     "output_type": "execute_result"
    }
   ],
   "source": [
    "Y_train"
   ]
  },
  {
   "cell_type": "code",
   "execution_count": 132,
   "metadata": {},
   "outputs": [
    {
     "data": {
      "text/plain": [
       "<897x2 sparse matrix of type '<class 'numpy.float64'>'\n",
       "\twith 897 stored elements in Compressed Sparse Row format>"
      ]
     },
     "execution_count": 132,
     "metadata": {},
     "output_type": "execute_result"
    }
   ],
   "source": [
    "Y_test"
   ]
  },
  {
   "cell_type": "code",
   "execution_count": 133,
   "metadata": {},
   "outputs": [
    {
     "name": "stdout",
     "output_type": "stream",
     "text": [
      "Train on 3587 samples, validate on 897 samples\n",
      "Epoch 1/100\n",
      "3587/3587 [==============================] - 1s 312us/step - loss: 0.6889 - acc: 0.5605 - val_loss: 0.6610 - val_acc: 0.6650\n",
      "Epoch 2/100\n",
      "3587/3587 [==============================] - 1s 155us/step - loss: 0.6442 - acc: 0.6512 - val_loss: 0.6191 - val_acc: 0.6918\n",
      "Epoch 3/100\n",
      "3587/3587 [==============================] - 1s 163us/step - loss: 0.6301 - acc: 0.6645 - val_loss: 0.6160 - val_acc: 0.6912\n",
      "Epoch 4/100\n",
      "3587/3587 [==============================] - 1s 163us/step - loss: 0.6272 - acc: 0.6674 - val_loss: 0.6129 - val_acc: 0.7007\n",
      "Epoch 5/100\n",
      "3587/3587 [==============================] - 1s 165us/step - loss: 0.6253 - acc: 0.6735 - val_loss: 0.6125 - val_acc: 0.7029\n",
      "Epoch 6/100\n",
      "3587/3587 [==============================] - 1s 165us/step - loss: 0.6216 - acc: 0.6735 - val_loss: 0.6101 - val_acc: 0.6990\n",
      "Epoch 7/100\n",
      "3587/3587 [==============================] - 1s 163us/step - loss: 0.6184 - acc: 0.6759 - val_loss: 0.6086 - val_acc: 0.7040\n",
      "Epoch 8/100\n",
      "3587/3587 [==============================] - 1s 166us/step - loss: 0.6149 - acc: 0.6820 - val_loss: 0.6100 - val_acc: 0.7051\n",
      "Epoch 9/100\n",
      "3587/3587 [==============================] - 1s 164us/step - loss: 0.6090 - acc: 0.6931 - val_loss: 0.6075 - val_acc: 0.6984\n",
      "Epoch 10/100\n",
      "3587/3587 [==============================] - 1s 165us/step - loss: 0.6120 - acc: 0.6892 - val_loss: 0.6048 - val_acc: 0.6940\n",
      "Epoch 11/100\n",
      "3587/3587 [==============================] - 1s 164us/step - loss: 0.6042 - acc: 0.6911 - val_loss: 0.6048 - val_acc: 0.6945\n",
      "Epoch 12/100\n",
      "3587/3587 [==============================] - 1s 163us/step - loss: 0.6012 - acc: 0.6953 - val_loss: 0.5992 - val_acc: 0.6934\n",
      "Epoch 13/100\n",
      "3587/3587 [==============================] - 1s 166us/step - loss: 0.6018 - acc: 0.6924 - val_loss: 0.5953 - val_acc: 0.7035\n",
      "Epoch 14/100\n",
      "3587/3587 [==============================] - 1s 177us/step - loss: 0.5959 - acc: 0.7056 - val_loss: 0.5923 - val_acc: 0.7051\n",
      "Epoch 15/100\n",
      "3587/3587 [==============================] - 1s 211us/step - loss: 0.5946 - acc: 0.7064 - val_loss: 0.5927 - val_acc: 0.7090\n",
      "Epoch 16/100\n",
      "3587/3587 [==============================] - 1s 172us/step - loss: 0.5917 - acc: 0.7030 - val_loss: 0.5928 - val_acc: 0.7051\n",
      "Epoch 17/100\n",
      "3587/3587 [==============================] - 1s 171us/step - loss: 0.5867 - acc: 0.7110 - val_loss: 0.5886 - val_acc: 0.7135\n",
      "Epoch 18/100\n",
      "3587/3587 [==============================] - 1s 183us/step - loss: 0.5849 - acc: 0.7142 - val_loss: 0.5862 - val_acc: 0.7152\n",
      "Epoch 19/100\n",
      "3587/3587 [==============================] - 1s 173us/step - loss: 0.5814 - acc: 0.7162 - val_loss: 0.5843 - val_acc: 0.7135\n",
      "Epoch 20/100\n",
      "3587/3587 [==============================] - 1s 200us/step - loss: 0.5727 - acc: 0.7207 - val_loss: 0.5833 - val_acc: 0.7140\n",
      "Epoch 21/100\n",
      "3587/3587 [==============================] - 1s 195us/step - loss: 0.5750 - acc: 0.7158 - val_loss: 0.5841 - val_acc: 0.7124\n",
      "Epoch 22/100\n",
      "3587/3587 [==============================] - 1s 373us/step - loss: 0.5686 - acc: 0.7275 - val_loss: 0.5817 - val_acc: 0.7207\n",
      "Epoch 23/100\n",
      "3587/3587 [==============================] - 1s 172us/step - loss: 0.5677 - acc: 0.7243 - val_loss: 0.5744 - val_acc: 0.7185\n",
      "Epoch 24/100\n",
      "3587/3587 [==============================] - 1s 204us/step - loss: 0.5628 - acc: 0.7290 - val_loss: 0.5700 - val_acc: 0.7269\n",
      "Epoch 25/100\n",
      "3587/3587 [==============================] - 1s 198us/step - loss: 0.5577 - acc: 0.7324 - val_loss: 0.5753 - val_acc: 0.7202\n",
      "Epoch 26/100\n",
      "3587/3587 [==============================] - 1s 158us/step - loss: 0.5575 - acc: 0.7349 - val_loss: 0.5693 - val_acc: 0.7202\n",
      "Epoch 27/100\n",
      "3587/3587 [==============================] - 1s 158us/step - loss: 0.5535 - acc: 0.7339 - val_loss: 0.5597 - val_acc: 0.7336\n",
      "Epoch 28/100\n",
      "3587/3587 [==============================] - 1s 153us/step - loss: 0.5528 - acc: 0.7325 - val_loss: 0.5722 - val_acc: 0.7235\n",
      "Epoch 29/100\n",
      "3587/3587 [==============================] - 1s 154us/step - loss: 0.5495 - acc: 0.7345 - val_loss: 0.5598 - val_acc: 0.7358\n",
      "Epoch 30/100\n",
      "3587/3587 [==============================] - 1s 159us/step - loss: 0.5458 - acc: 0.7409 - val_loss: 0.5600 - val_acc: 0.7291\n",
      "Epoch 31/100\n",
      "3587/3587 [==============================] - 1s 180us/step - loss: 0.5438 - acc: 0.7388 - val_loss: 0.5560 - val_acc: 0.7336\n",
      "Epoch 32/100\n",
      "3587/3587 [==============================] - 1s 162us/step - loss: 0.5424 - acc: 0.7425 - val_loss: 0.5562 - val_acc: 0.7291\n",
      "Epoch 33/100\n",
      "3587/3587 [==============================] - 1s 156us/step - loss: 0.5361 - acc: 0.7434 - val_loss: 0.5530 - val_acc: 0.7336\n",
      "Epoch 34/100\n",
      "3587/3587 [==============================] - 1s 162us/step - loss: 0.5320 - acc: 0.7431 - val_loss: 0.5580 - val_acc: 0.7330\n",
      "Epoch 35/100\n",
      "3587/3587 [==============================] - 1s 161us/step - loss: 0.5272 - acc: 0.7513 - val_loss: 0.5568 - val_acc: 0.7380\n",
      "Epoch 36/100\n",
      "3587/3587 [==============================] - 1s 166us/step - loss: 0.5296 - acc: 0.7506 - val_loss: 0.5547 - val_acc: 0.7230\n",
      "Epoch 37/100\n",
      "3587/3587 [==============================] - 1s 157us/step - loss: 0.5301 - acc: 0.7543 - val_loss: 0.5533 - val_acc: 0.7397\n",
      "Epoch 38/100\n",
      "3587/3587 [==============================] - 1s 158us/step - loss: 0.5197 - acc: 0.7563 - val_loss: 0.5498 - val_acc: 0.7391\n",
      "Epoch 39/100\n",
      "3587/3587 [==============================] - 1s 193us/step - loss: 0.5187 - acc: 0.7491 - val_loss: 0.5508 - val_acc: 0.7391\n",
      "Epoch 40/100\n",
      "3587/3587 [==============================] - 1s 208us/step - loss: 0.5211 - acc: 0.7477 - val_loss: 0.5532 - val_acc: 0.7464\n",
      "Epoch 41/100\n",
      "3587/3587 [==============================] - 1s 180us/step - loss: 0.5218 - acc: 0.7487 - val_loss: 0.5585 - val_acc: 0.7402\n",
      "Epoch 42/100\n",
      "3587/3587 [==============================] - 1s 158us/step - loss: 0.5123 - acc: 0.7636 - val_loss: 0.5566 - val_acc: 0.7358\n",
      "Epoch 43/100\n",
      "3587/3587 [==============================] - 1s 157us/step - loss: 0.5171 - acc: 0.7495 - val_loss: 0.5464 - val_acc: 0.7492\n",
      "Epoch 44/100\n",
      "3587/3587 [==============================] - 1s 185us/step - loss: 0.5129 - acc: 0.7545 - val_loss: 0.5501 - val_acc: 0.7458\n",
      "Epoch 45/100\n",
      "3587/3587 [==============================] - 1s 190us/step - loss: 0.5153 - acc: 0.7544 - val_loss: 0.5515 - val_acc: 0.7402\n",
      "Epoch 46/100\n",
      "3587/3587 [==============================] - 1s 197us/step - loss: 0.5091 - acc: 0.7584 - val_loss: 0.5505 - val_acc: 0.7525\n",
      "Epoch 47/100\n",
      "3587/3587 [==============================] - 1s 164us/step - loss: 0.5076 - acc: 0.7615 - val_loss: 0.5523 - val_acc: 0.7536\n",
      "Epoch 48/100\n",
      "3587/3587 [==============================] - 1s 157us/step - loss: 0.5153 - acc: 0.7595 - val_loss: 0.5504 - val_acc: 0.7436\n",
      "Epoch 49/100\n",
      "3587/3587 [==============================] - 1s 156us/step - loss: 0.5092 - acc: 0.7576 - val_loss: 0.5500 - val_acc: 0.7486\n",
      "Epoch 50/100\n",
      "3587/3587 [==============================] - 1s 156us/step - loss: 0.5046 - acc: 0.7597 - val_loss: 0.5477 - val_acc: 0.7520\n",
      "Epoch 51/100\n",
      "3587/3587 [==============================] - 1s 162us/step - loss: 0.5142 - acc: 0.7577 - val_loss: 0.5471 - val_acc: 0.7469\n",
      "Epoch 52/100\n",
      "3587/3587 [==============================] - 1s 169us/step - loss: 0.4988 - acc: 0.7708 - val_loss: 0.5547 - val_acc: 0.7453\n",
      "Epoch 53/100\n",
      "3587/3587 [==============================] - 1s 165us/step - loss: 0.4989 - acc: 0.7639 - val_loss: 0.5482 - val_acc: 0.7547\n",
      "Epoch 54/100\n",
      "3587/3587 [==============================] - 1s 168us/step - loss: 0.5093 - acc: 0.7607 - val_loss: 0.5589 - val_acc: 0.7408\n",
      "Epoch 55/100\n",
      "3587/3587 [==============================] - 1s 168us/step - loss: 0.5000 - acc: 0.7654 - val_loss: 0.5474 - val_acc: 0.7492\n",
      "Epoch 56/100\n",
      "3587/3587 [==============================] - 1s 166us/step - loss: 0.5017 - acc: 0.7681 - val_loss: 0.5473 - val_acc: 0.7525\n",
      "Epoch 57/100\n",
      "3587/3587 [==============================] - 1s 162us/step - loss: 0.5151 - acc: 0.7619 - val_loss: 0.5364 - val_acc: 0.7559\n",
      "Epoch 58/100\n",
      "3587/3587 [==============================] - 1s 156us/step - loss: 0.5072 - acc: 0.7632 - val_loss: 0.5456 - val_acc: 0.7419\n",
      "Epoch 59/100\n",
      "3587/3587 [==============================] - 1s 157us/step - loss: 0.5023 - acc: 0.7590 - val_loss: 0.5411 - val_acc: 0.7536\n",
      "Epoch 60/100\n"
     ]
    },
    {
     "name": "stdout",
     "output_type": "stream",
     "text": [
      "3587/3587 [==============================] - 1s 153us/step - loss: 0.5014 - acc: 0.7621 - val_loss: 0.5460 - val_acc: 0.7525\n",
      "Epoch 61/100\n",
      "3587/3587 [==============================] - 1s 154us/step - loss: 0.4966 - acc: 0.7675 - val_loss: 0.5417 - val_acc: 0.7492\n",
      "Epoch 62/100\n",
      "3587/3587 [==============================] - 1s 156us/step - loss: 0.4935 - acc: 0.7720 - val_loss: 0.5428 - val_acc: 0.7458\n",
      "Epoch 63/100\n",
      "3587/3587 [==============================] - 1s 152us/step - loss: 0.5069 - acc: 0.7611 - val_loss: 0.5485 - val_acc: 0.7414\n",
      "Epoch 64/100\n",
      "3587/3587 [==============================] - 1s 158us/step - loss: 0.4957 - acc: 0.7675 - val_loss: 0.5464 - val_acc: 0.7397\n",
      "Epoch 65/100\n",
      "3587/3587 [==============================] - 1s 163us/step - loss: 0.4952 - acc: 0.7648 - val_loss: 0.5409 - val_acc: 0.7425\n",
      "Epoch 66/100\n",
      "3587/3587 [==============================] - 1s 161us/step - loss: 0.5016 - acc: 0.7672 - val_loss: 0.5525 - val_acc: 0.7430\n",
      "Epoch 67/100\n",
      "3587/3587 [==============================] - 1s 157us/step - loss: 0.4953 - acc: 0.7745 - val_loss: 0.5521 - val_acc: 0.7469\n",
      "Epoch 68/100\n",
      "3587/3587 [==============================] - 1s 164us/step - loss: 0.4942 - acc: 0.7675 - val_loss: 0.5454 - val_acc: 0.7391\n",
      "Epoch 69/100\n",
      "3587/3587 [==============================] - 1s 155us/step - loss: 0.4875 - acc: 0.7725 - val_loss: 0.5394 - val_acc: 0.7514\n",
      "Epoch 70/100\n",
      "3587/3587 [==============================] - 1s 165us/step - loss: 0.4827 - acc: 0.7717 - val_loss: 0.5423 - val_acc: 0.7436\n",
      "Epoch 71/100\n",
      "3587/3587 [==============================] - 1s 155us/step - loss: 0.4918 - acc: 0.7671 - val_loss: 0.5413 - val_acc: 0.7475\n",
      "Epoch 72/100\n",
      "3587/3587 [==============================] - 1s 156us/step - loss: 0.5005 - acc: 0.7598 - val_loss: 0.5426 - val_acc: 0.7514\n",
      "Epoch 73/100\n",
      "3587/3587 [==============================] - 1s 153us/step - loss: 0.4843 - acc: 0.7697 - val_loss: 0.5446 - val_acc: 0.7480\n",
      "Epoch 74/100\n",
      "3587/3587 [==============================] - 1s 164us/step - loss: 0.4966 - acc: 0.7671 - val_loss: 0.5385 - val_acc: 0.7503\n",
      "Epoch 75/100\n",
      "3587/3587 [==============================] - 1s 166us/step - loss: 0.4809 - acc: 0.7714 - val_loss: 0.5434 - val_acc: 0.7503\n",
      "Epoch 76/100\n",
      "3587/3587 [==============================] - 1s 155us/step - loss: 0.4882 - acc: 0.7681 - val_loss: 0.5377 - val_acc: 0.7480\n",
      "Epoch 77/100\n",
      "3587/3587 [==============================] - 1s 160us/step - loss: 0.4830 - acc: 0.7779 - val_loss: 0.5381 - val_acc: 0.7547\n",
      "Epoch 78/100\n",
      "3587/3587 [==============================] - 1s 156us/step - loss: 0.4931 - acc: 0.7623 - val_loss: 0.5359 - val_acc: 0.7536\n",
      "Epoch 79/100\n",
      "3587/3587 [==============================] - 1s 156us/step - loss: 0.4896 - acc: 0.7685 - val_loss: 0.5522 - val_acc: 0.7458\n",
      "Epoch 80/100\n",
      "3587/3587 [==============================] - 1s 156us/step - loss: 0.4929 - acc: 0.7725 - val_loss: 0.5534 - val_acc: 0.7486\n",
      "Epoch 81/100\n",
      "3587/3587 [==============================] - 1s 153us/step - loss: 0.4917 - acc: 0.7713 - val_loss: 0.5388 - val_acc: 0.7525\n",
      "Epoch 82/100\n",
      "3587/3587 [==============================] - 1s 168us/step - loss: 0.4916 - acc: 0.7595 - val_loss: 0.5414 - val_acc: 0.7503\n",
      "Epoch 83/100\n",
      "3587/3587 [==============================] - 1s 160us/step - loss: 0.4916 - acc: 0.7646 - val_loss: 0.5509 - val_acc: 0.7525\n",
      "Epoch 84/100\n",
      "3587/3587 [==============================] - 1s 159us/step - loss: 0.4871 - acc: 0.7729 - val_loss: 0.5365 - val_acc: 0.7547\n",
      "Epoch 85/100\n",
      "3587/3587 [==============================] - 1s 162us/step - loss: 0.4850 - acc: 0.7736 - val_loss: 0.5422 - val_acc: 0.7570\n",
      "Epoch 86/100\n",
      "3587/3587 [==============================] - 1s 157us/step - loss: 0.4907 - acc: 0.7678 - val_loss: 0.5401 - val_acc: 0.7547\n",
      "Epoch 87/100\n",
      "3587/3587 [==============================] - 1s 154us/step - loss: 0.4879 - acc: 0.7725 - val_loss: 0.5445 - val_acc: 0.7469\n",
      "Epoch 88/100\n",
      "3587/3587 [==============================] - 1s 165us/step - loss: 0.4813 - acc: 0.7767 - val_loss: 0.5451 - val_acc: 0.7536\n",
      "Epoch 89/100\n",
      "3587/3587 [==============================] - 1s 164us/step - loss: 0.4755 - acc: 0.7789 - val_loss: 0.5425 - val_acc: 0.7469\n",
      "Epoch 90/100\n",
      "3587/3587 [==============================] - 1s 166us/step - loss: 0.4770 - acc: 0.7803 - val_loss: 0.5516 - val_acc: 0.7469\n",
      "Epoch 91/100\n",
      "3587/3587 [==============================] - 1s 164us/step - loss: 0.4771 - acc: 0.7800 - val_loss: 0.5411 - val_acc: 0.7525\n",
      "Epoch 92/100\n",
      "3587/3587 [==============================] - 1s 164us/step - loss: 0.4852 - acc: 0.7685 - val_loss: 0.5355 - val_acc: 0.7570\n",
      "Epoch 93/100\n",
      "3587/3587 [==============================] - 1s 160us/step - loss: 0.4923 - acc: 0.7687 - val_loss: 0.5464 - val_acc: 0.7469\n",
      "Epoch 94/100\n",
      "3587/3587 [==============================] - 1s 157us/step - loss: 0.4781 - acc: 0.7717 - val_loss: 0.5477 - val_acc: 0.7480\n",
      "Epoch 95/100\n",
      "3587/3587 [==============================] - 1s 178us/step - loss: 0.4727 - acc: 0.7823 - val_loss: 0.5464 - val_acc: 0.7469\n",
      "Epoch 96/100\n",
      "3587/3587 [==============================] - 1s 161us/step - loss: 0.4866 - acc: 0.7747 - val_loss: 0.5579 - val_acc: 0.7514\n",
      "Epoch 97/100\n",
      "3587/3587 [==============================] - 1s 180us/step - loss: 0.4851 - acc: 0.7754 - val_loss: 0.5482 - val_acc: 0.7536\n",
      "Epoch 98/100\n",
      "3587/3587 [==============================] - 1s 179us/step - loss: 0.4716 - acc: 0.7788 - val_loss: 0.5467 - val_acc: 0.7514\n",
      "Epoch 99/100\n",
      "3587/3587 [==============================] - 1s 170us/step - loss: 0.4814 - acc: 0.7767 - val_loss: 0.5493 - val_acc: 0.7525\n",
      "Epoch 100/100\n",
      "3587/3587 [==============================] - 1s 171us/step - loss: 0.4798 - acc: 0.7713 - val_loss: 0.5567 - val_acc: 0.7492\n"
     ]
    }
   ],
   "source": [
    "checker = classifier.fit(X_train, Y_train, batch_size=32, epochs=100, validation_data = (X_test, Y_test))"
   ]
  },
  {
   "cell_type": "code",
   "execution_count": 134,
   "metadata": {
    "collapsed": true
   },
   "outputs": [],
   "source": [
    "Y_pred_test_label = classifier.predict(X_test)\n",
    "y_pred_test=np.argmax(Y_pred_test_label,axis =1)\n",
    "y_pred_test\n",
    "Y_pred_train_label = classifier.predict(X_train)\n",
    "y_pred_train = np.argmax(Y_pred_train_label,axis=1)\n",
    "Y_test_true = Y_test_org.astype(np.int)\n",
    "Y_train_true = Y_train_org.astype(np.int)"
   ]
  },
  {
   "cell_type": "code",
   "execution_count": 135,
   "metadata": {},
   "outputs": [
    {
     "name": "stdout",
     "output_type": "stream",
     "text": [
      "             precision    recall  f1-score   support\n",
      "\n",
      "          0       0.76      0.72      0.74       443\n",
      "          1       0.74      0.78      0.76       454\n",
      "\n",
      "avg / total       0.75      0.75      0.75       897\n",
      "\n"
     ]
    }
   ],
   "source": [
    "from sklearn.metrics import classification_report\n",
    "print(classification_report(Y_test_true,y_pred_test))"
   ]
  },
  {
   "cell_type": "code",
   "execution_count": 136,
   "metadata": {},
   "outputs": [
    {
     "name": "stdout",
     "output_type": "stream",
     "text": [
      "             precision    recall  f1-score   support\n",
      "\n",
      "          0       0.85      0.75      0.80      1799\n",
      "          1       0.78      0.87      0.82      1788\n",
      "\n",
      "avg / total       0.81      0.81      0.81      3587\n",
      "\n"
     ]
    }
   ],
   "source": [
    "print(classification_report(Y_train_true,y_pred_train))"
   ]
  },
  {
   "cell_type": "code",
   "execution_count": 137,
   "metadata": {
    "collapsed": true
   },
   "outputs": [],
   "source": [
    "from sklearn.metrics import confusion_matrix"
   ]
  },
  {
   "cell_type": "code",
   "execution_count": 102,
   "metadata": {},
   "outputs": [
    {
     "name": "stdout",
     "output_type": "stream",
     "text": [
      "TRAIN:  \n",
      " [[1295  240]\n",
      " [ 504 1548]]\n",
      "\n",
      "Test:  \n",
      " [[288 111]\n",
      " [155 343]]\n"
     ]
    }
   ],
   "source": [
    "### for softmax function\n",
    "print(\"TRAIN:  \\n\",confusion_matrix(y_pred_train,Y_train_true))\n",
    "print(\"\\nTest:  \\n\",confusion_matrix(y_pred_test,Y_test_true))"
   ]
  },
  {
   "cell_type": "code",
   "execution_count": 138,
   "metadata": {},
   "outputs": [
    {
     "name": "stdout",
     "output_type": "stream",
     "text": [
      "TRAIN:  \n",
      " [[1358  241]\n",
      " [ 441 1547]]\n",
      "\n",
      "Test:  \n",
      " [[317  99]\n",
      " [126 355]]\n"
     ]
    }
   ],
   "source": [
    "### for sigmoid function\n",
    "print(\"TRAIN:  \\n\",confusion_matrix(y_pred_train,Y_train_true))\n",
    "print(\"\\nTest:  \\n\",confusion_matrix(y_pred_test,Y_test_true))"
   ]
  },
  {
   "cell_type": "code",
   "execution_count": null,
   "metadata": {
    "collapsed": true
   },
   "outputs": [],
   "source": []
  }
 ],
 "metadata": {
  "kernelspec": {
   "display_name": "Python 3",
   "language": "python",
   "name": "python3"
  },
  "language_info": {
   "codemirror_mode": {
    "name": "ipython",
    "version": 3
   },
   "file_extension": ".py",
   "mimetype": "text/x-python",
   "name": "python",
   "nbconvert_exporter": "python",
   "pygments_lexer": "ipython3",
   "version": "3.6.3"
  }
 },
 "nbformat": 4,
 "nbformat_minor": 2
}
