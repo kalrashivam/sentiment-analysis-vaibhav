{
 "cells": [
  {
   "cell_type": "code",
   "execution_count": 1,
   "metadata": {},
   "outputs": [
    {
     "name": "stderr",
     "output_type": "stream",
     "text": [
      "Using TensorFlow backend.\n"
     ]
    }
   ],
   "source": [
    "import numpy as np\n",
    "import pandas as pd\n",
    "import matplotlib.pyplot as plt\n",
    "import tensorflow\n",
    "import keras\n",
    "%matplotlib inline"
   ]
  },
  {
   "cell_type": "code",
   "execution_count": 2,
   "metadata": {
    "collapsed": true
   },
   "outputs": [],
   "source": [
    "df = pd.read_csv('train_E6oV3lV.csv')"
   ]
  },
  {
   "cell_type": "code",
   "execution_count": 3,
   "metadata": {},
   "outputs": [
    {
     "data": {
      "text/html": [
       "<div>\n",
       "<style>\n",
       "    .dataframe thead tr:only-child th {\n",
       "        text-align: right;\n",
       "    }\n",
       "\n",
       "    .dataframe thead th {\n",
       "        text-align: left;\n",
       "    }\n",
       "\n",
       "    .dataframe tbody tr th {\n",
       "        vertical-align: top;\n",
       "    }\n",
       "</style>\n",
       "<table border=\"1\" class=\"dataframe\">\n",
       "  <thead>\n",
       "    <tr style=\"text-align: right;\">\n",
       "      <th></th>\n",
       "      <th>id</th>\n",
       "      <th>label</th>\n",
       "      <th>tweet</th>\n",
       "    </tr>\n",
       "  </thead>\n",
       "  <tbody>\n",
       "    <tr>\n",
       "      <th>0</th>\n",
       "      <td>1</td>\n",
       "      <td>0</td>\n",
       "      <td>@user when a father is dysfunctional and is s...</td>\n",
       "    </tr>\n",
       "    <tr>\n",
       "      <th>1</th>\n",
       "      <td>2</td>\n",
       "      <td>0</td>\n",
       "      <td>@user @user thanks for #lyft credit i can't us...</td>\n",
       "    </tr>\n",
       "    <tr>\n",
       "      <th>2</th>\n",
       "      <td>3</td>\n",
       "      <td>0</td>\n",
       "      <td>bihday your majesty</td>\n",
       "    </tr>\n",
       "    <tr>\n",
       "      <th>3</th>\n",
       "      <td>4</td>\n",
       "      <td>0</td>\n",
       "      <td>#model   i love u take with u all the time in ...</td>\n",
       "    </tr>\n",
       "    <tr>\n",
       "      <th>4</th>\n",
       "      <td>5</td>\n",
       "      <td>0</td>\n",
       "      <td>factsguide: society now    #motivation</td>\n",
       "    </tr>\n",
       "  </tbody>\n",
       "</table>\n",
       "</div>"
      ],
      "text/plain": [
       "   id  label                                              tweet\n",
       "0   1      0   @user when a father is dysfunctional and is s...\n",
       "1   2      0  @user @user thanks for #lyft credit i can't us...\n",
       "2   3      0                                bihday your majesty\n",
       "3   4      0  #model   i love u take with u all the time in ...\n",
       "4   5      0             factsguide: society now    #motivation"
      ]
     },
     "execution_count": 3,
     "metadata": {},
     "output_type": "execute_result"
    }
   ],
   "source": [
    "df.head()"
   ]
  },
  {
   "cell_type": "code",
   "execution_count": 4,
   "metadata": {},
   "outputs": [
    {
     "data": {
      "text/html": [
       "<div>\n",
       "<style>\n",
       "    .dataframe thead tr:only-child th {\n",
       "        text-align: right;\n",
       "    }\n",
       "\n",
       "    .dataframe thead th {\n",
       "        text-align: left;\n",
       "    }\n",
       "\n",
       "    .dataframe tbody tr th {\n",
       "        vertical-align: top;\n",
       "    }\n",
       "</style>\n",
       "<table border=\"1\" class=\"dataframe\">\n",
       "  <thead>\n",
       "    <tr style=\"text-align: right;\">\n",
       "      <th></th>\n",
       "      <th>id</th>\n",
       "      <th>tweet</th>\n",
       "    </tr>\n",
       "    <tr>\n",
       "      <th>label</th>\n",
       "      <th></th>\n",
       "      <th></th>\n",
       "    </tr>\n",
       "  </thead>\n",
       "  <tbody>\n",
       "    <tr>\n",
       "      <th>0</th>\n",
       "      <td>29720</td>\n",
       "      <td>29720</td>\n",
       "    </tr>\n",
       "    <tr>\n",
       "      <th>1</th>\n",
       "      <td>2242</td>\n",
       "      <td>2242</td>\n",
       "    </tr>\n",
       "  </tbody>\n",
       "</table>\n",
       "</div>"
      ],
      "text/plain": [
       "          id  tweet\n",
       "label              \n",
       "0      29720  29720\n",
       "1       2242   2242"
      ]
     },
     "execution_count": 4,
     "metadata": {},
     "output_type": "execute_result"
    }
   ],
   "source": [
    "df.groupby('label').count()"
   ]
  },
  {
   "cell_type": "code",
   "execution_count": 5,
   "metadata": {
    "collapsed": true
   },
   "outputs": [],
   "source": [
    "df1 = df.query('label==1').sample(frac=1.0)"
   ]
  },
  {
   "cell_type": "code",
   "execution_count": 6,
   "metadata": {},
   "outputs": [
    {
     "data": {
      "text/plain": [
       "(2242, 3)"
      ]
     },
     "execution_count": 6,
     "metadata": {},
     "output_type": "execute_result"
    }
   ],
   "source": [
    "df1.shape"
   ]
  },
  {
   "cell_type": "code",
   "execution_count": 7,
   "metadata": {},
   "outputs": [
    {
     "data": {
      "text/html": [
       "<div>\n",
       "<style>\n",
       "    .dataframe thead tr:only-child th {\n",
       "        text-align: right;\n",
       "    }\n",
       "\n",
       "    .dataframe thead th {\n",
       "        text-align: left;\n",
       "    }\n",
       "\n",
       "    .dataframe tbody tr th {\n",
       "        vertical-align: top;\n",
       "    }\n",
       "</style>\n",
       "<table border=\"1\" class=\"dataframe\">\n",
       "  <thead>\n",
       "    <tr style=\"text-align: right;\">\n",
       "      <th></th>\n",
       "      <th>id</th>\n",
       "      <th>tweet</th>\n",
       "    </tr>\n",
       "    <tr>\n",
       "      <th>label</th>\n",
       "      <th></th>\n",
       "      <th></th>\n",
       "    </tr>\n",
       "  </thead>\n",
       "  <tbody>\n",
       "    <tr>\n",
       "      <th>0</th>\n",
       "      <td>29720</td>\n",
       "      <td>29720</td>\n",
       "    </tr>\n",
       "    <tr>\n",
       "      <th>1</th>\n",
       "      <td>4484</td>\n",
       "      <td>4484</td>\n",
       "    </tr>\n",
       "  </tbody>\n",
       "</table>\n",
       "</div>"
      ],
      "text/plain": [
       "          id  tweet\n",
       "label              \n",
       "0      29720  29720\n",
       "1       4484   4484"
      ]
     },
     "execution_count": 7,
     "metadata": {},
     "output_type": "execute_result"
    }
   ],
   "source": [
    "n_df = pd.concat([df,df1],ignore_index=True)\n",
    "n_df.groupby('label').count()"
   ]
  },
  {
   "cell_type": "code",
   "execution_count": 8,
   "metadata": {
    "collapsed": true
   },
   "outputs": [],
   "source": [
    "count_class_0, count_class_1 = df['label'].value_counts()"
   ]
  },
  {
   "cell_type": "code",
   "execution_count": 9,
   "metadata": {
    "collapsed": true
   },
   "outputs": [],
   "source": [
    "df_class_0 =  df.query('label==0')\n",
    "df_class_1 =  df.query('label==1')"
   ]
  },
  {
   "cell_type": "code",
   "execution_count": 10,
   "metadata": {
    "collapsed": true
   },
   "outputs": [],
   "source": [
    "df_class_0_under = df_class_0.sample(count_class_1)\n",
    "df_under = pd.concat([df_class_0_under, df_class_1],ignore_index=True ,axis=0)"
   ]
  },
  {
   "cell_type": "code",
   "execution_count": 11,
   "metadata": {},
   "outputs": [
    {
     "data": {
      "text/plain": [
       "(4484, 3)"
      ]
     },
     "execution_count": 11,
     "metadata": {},
     "output_type": "execute_result"
    }
   ],
   "source": [
    "df_under.shape"
   ]
  },
  {
   "cell_type": "code",
   "execution_count": 12,
   "metadata": {},
   "outputs": [
    {
     "data": {
      "text/html": [
       "<div>\n",
       "<style>\n",
       "    .dataframe thead tr:only-child th {\n",
       "        text-align: right;\n",
       "    }\n",
       "\n",
       "    .dataframe thead th {\n",
       "        text-align: left;\n",
       "    }\n",
       "\n",
       "    .dataframe tbody tr th {\n",
       "        vertical-align: top;\n",
       "    }\n",
       "</style>\n",
       "<table border=\"1\" class=\"dataframe\">\n",
       "  <thead>\n",
       "    <tr style=\"text-align: right;\">\n",
       "      <th></th>\n",
       "      <th>id</th>\n",
       "      <th>tweet</th>\n",
       "    </tr>\n",
       "    <tr>\n",
       "      <th>label</th>\n",
       "      <th></th>\n",
       "      <th></th>\n",
       "    </tr>\n",
       "  </thead>\n",
       "  <tbody>\n",
       "    <tr>\n",
       "      <th>0</th>\n",
       "      <td>2242</td>\n",
       "      <td>2242</td>\n",
       "    </tr>\n",
       "    <tr>\n",
       "      <th>1</th>\n",
       "      <td>2242</td>\n",
       "      <td>2242</td>\n",
       "    </tr>\n",
       "  </tbody>\n",
       "</table>\n",
       "</div>"
      ],
      "text/plain": [
       "         id  tweet\n",
       "label             \n",
       "0      2242   2242\n",
       "1      2242   2242"
      ]
     },
     "execution_count": 12,
     "metadata": {},
     "output_type": "execute_result"
    }
   ],
   "source": [
    "df_under.groupby('label').count()"
   ]
  },
  {
   "cell_type": "code",
   "execution_count": 13,
   "metadata": {
    "collapsed": true
   },
   "outputs": [],
   "source": [
    "df = df_under"
   ]
  },
  {
   "cell_type": "code",
   "execution_count": 14,
   "metadata": {
    "collapsed": true
   },
   "outputs": [],
   "source": [
    "X = df['tweet']\n",
    "Y = df['label']\n",
    "Y_org = Y"
   ]
  },
  {
   "cell_type": "code",
   "execution_count": 15,
   "metadata": {
    "collapsed": true
   },
   "outputs": [],
   "source": [
    "from keras.preprocessing.text import Tokenizer\n",
    "max_features = 10000\n",
    "tokenizer = Tokenizer(num_words=max_features, filters='!\"#$%&()*+,-./:;<=>?@[\\]^_`{|}~', split=' ', lower=True, char_level=False, oov_token=None)\n",
    "tokenizer.fit_on_texts(X.values)\n",
    "X = tokenizer.texts_to_sequences(X.values)\n",
    "\n",
    "# add padding\n",
    "from keras.preprocessing.sequence import pad_sequences\n",
    "X = pad_sequences(X, maxlen=400)"
   ]
  },
  {
   "cell_type": "code",
   "execution_count": 16,
   "metadata": {},
   "outputs": [
    {
     "data": {
      "text/plain": [
       "'we all know that the difference between kpekere $ plantain chip na packagingð\\x9f\\x99\\x8c good evening #  ramadan day 14 ð\\x9f\\x8d\\x8fð\\x9f\\x8d\\x89ð\\x9f\\x8d\\x8cð\\x9f\\x8d\\x8dð\\x9f\\x9a¿ð\\x9f\\x98´ð\\x9f\\x95\\x92ð\\x9f\\x8d\\x9bð\\x9f\\x8d\\x97ð\\x9f\\x91\\x8a'"
      ]
     },
     "execution_count": 16,
     "metadata": {},
     "output_type": "execute_result"
    }
   ],
   "source": [
    "max(df['tweet'], key=len)"
   ]
  },
  {
   "cell_type": "code",
   "execution_count": 17,
   "metadata": {},
   "outputs": [
    {
     "name": "stderr",
     "output_type": "stream",
     "text": [
      "/home/shivam/.conda/envs/my_root/lib/python3.6/site-packages/sklearn/utils/validation.py:475: DataConversionWarning: Data with input dtype int32 was converted to float64 by StandardScaler.\n",
      "  warnings.warn(msg, DataConversionWarning)\n"
     ]
    }
   ],
   "source": [
    "from sklearn.preprocessing import StandardScaler\n",
    "scaler = StandardScaler()\n",
    "X = scaler.fit(X).transform(X)"
   ]
  },
  {
   "cell_type": "code",
   "execution_count": 18,
   "metadata": {
    "collapsed": true
   },
   "outputs": [],
   "source": [
    "from sklearn.decomposition import PCA\n",
    "pca = PCA(n_components = 35)\n",
    "pca.fit(X)\n",
    "X = pca.transform(X);"
   ]
  },
  {
   "cell_type": "code",
   "execution_count": 19,
   "metadata": {},
   "outputs": [
    {
     "data": {
      "image/png": "[encoded data removed]",
      "text/plain": [
       "<matplotlib.figure.Figure at 0x7f42fc07c208>"
      ]
     },
     "metadata": {},
     "output_type": "display_data"
    }
   ],
   "source": [
    "plt.plot(np.cumsum(pca.explained_variance_ratio_)*100)\n",
    "plt.xlabel(\"No. of components\")\n",
    "plt.ylabel(\"cummulative explained Variance\");"
   ]
  },
  {
   "cell_type": "code",
   "execution_count": 20,
   "metadata": {
    "collapsed": true
   },
   "outputs": [],
   "source": [
    "from sklearn.model_selection import train_test_split\n",
    "X_train,X_test,Y_train,Y_test = train_test_split(X,Y,test_size = 0.2, random_state= 42)"
   ]
  },
  {
   "cell_type": "code",
   "execution_count": 21,
   "metadata": {
    "collapsed": true
   },
   "outputs": [],
   "source": [
    "from keras.models import Sequential\n",
    "from keras.layers import Dense\n",
    "from keras.layers import Dropout"
   ]
  },
  {
   "cell_type": "code",
   "execution_count": 22,
   "metadata": {
    "collapsed": true
   },
   "outputs": [],
   "source": [
    "classifier = Sequential()\n",
    "classifier.add(Dense(units= 20,kernel_initializer= 'uniform', activation='relu' ,input_dim =X.shape[1]))"
   ]
  },
  {
   "cell_type": "code",
   "execution_count": 23,
   "metadata": {
    "collapsed": true
   },
   "outputs": [],
   "source": [
    "classifier.add(Dense(units= 20,kernel_initializer= 'uniform', activation='relu'))\n",
    "classifier.add(Dropout(0.1))\n",
    "classifier.add(Dense(units= 20,kernel_initializer= 'uniform', activation='relu'))\n",
    "classifier.add(Dropout(0.2))\n",
    "classifier.add(Dense(2,kernel_initializer='uniform', activation='sigmoid'))"
   ]
  },
  {
   "cell_type": "code",
   "execution_count": 24,
   "metadata": {
    "collapsed": true
   },
   "outputs": [],
   "source": [
    "classifier.compile(optimizer='adam', loss='binary_crossentropy', metrics= ['accuracy'])"
   ]
  },
  {
   "cell_type": "code",
   "execution_count": 25,
   "metadata": {},
   "outputs": [
    {
     "name": "stderr",
     "output_type": "stream",
     "text": [
      "/home/shivam/.conda/envs/my_root/lib/python3.6/site-packages/ipykernel_launcher.py:5: FutureWarning: reshape is deprecated and will raise in a subsequent release. Please use .values.reshape(...) instead\n",
      "  \"\"\"\n",
      "/home/shivam/.conda/envs/my_root/lib/python3.6/site-packages/ipykernel_launcher.py:6: FutureWarning: reshape is deprecated and will raise in a subsequent release. Please use .values.reshape(...) instead\n",
      "  \n"
     ]
    }
   ],
   "source": [
    "from sklearn.preprocessing import OneHotEncoder\n",
    "y_e = OneHotEncoder()\n",
    "Y_train_org = Y_train\n",
    "Y_test_org = Y_test\n",
    "Y_train = Y_train.reshape(-1, 1)\n",
    "Y_test = Y_test.reshape(-1, 1)\n",
    "y_e.fit(Y_train)\n",
    "Y_train = y_e.transform(Y_train)\n",
    "Y_test = y_e.transform(Y_test)"
   ]
  },
  {
   "cell_type": "code",
   "execution_count": 26,
   "metadata": {},
   "outputs": [
    {
     "data": {
      "text/plain": [
       "<3587x2 sparse matrix of type '<class 'numpy.float64'>'\n",
       "\twith 3587 stored elements in Compressed Sparse Row format>"
      ]
     },
     "execution_count": 26,
     "metadata": {},
     "output_type": "execute_result"
    }
   ],
   "source": [
    "Y_train"
   ]
  },
  {
   "cell_type": "code",
   "execution_count": 27,
   "metadata": {},
   "outputs": [
    {
     "data": {
      "text/plain": [
       "<897x2 sparse matrix of type '<class 'numpy.float64'>'\n",
       "\twith 897 stored elements in Compressed Sparse Row format>"
      ]
     },
     "execution_count": 27,
     "metadata": {},
     "output_type": "execute_result"
    }
   ],
   "source": [
    "Y_test"
   ]
  },
  {
   "cell_type": "code",
   "execution_count": 30,
   "metadata": {},
   "outputs": [
    {
     "name": "stdout",
     "output_type": "stream",
     "text": [
      "Train on 3587 samples, validate on 897 samples\n",
      "Epoch 1/300\n",
      "3587/3587 [==============================] - 1s 154us/step - loss: 0.4412 - acc: 0.8037 - val_loss: 0.6969 - val_acc: 0.6945\n",
      "Epoch 2/300\n",
      "3587/3587 [==============================] - 1s 145us/step - loss: 0.4350 - acc: 0.7998 - val_loss: 0.6856 - val_acc: 0.7012\n",
      "Epoch 3/300\n",
      "3587/3587 [==============================] - 1s 145us/step - loss: 0.4387 - acc: 0.7966 - val_loss: 0.7008 - val_acc: 0.7001\n",
      "Epoch 4/300\n",
      "3587/3587 [==============================] - 1s 148us/step - loss: 0.4357 - acc: 0.7986 - val_loss: 0.6958 - val_acc: 0.6912\n",
      "Epoch 5/300\n",
      "3587/3587 [==============================] - 1s 152us/step - loss: 0.4353 - acc: 0.8035 - val_loss: 0.7039 - val_acc: 0.6878\n",
      "Epoch 6/300\n",
      "3587/3587 [==============================] - 1s 151us/step - loss: 0.4347 - acc: 0.7983 - val_loss: 0.7037 - val_acc: 0.6957\n",
      "Epoch 7/300\n",
      "3587/3587 [==============================] - 1s 155us/step - loss: 0.4290 - acc: 0.8062 - val_loss: 0.7219 - val_acc: 0.6878\n",
      "Epoch 8/300\n",
      "3587/3587 [==============================] - 1s 152us/step - loss: 0.4268 - acc: 0.8054 - val_loss: 0.7053 - val_acc: 0.6968\n",
      "Epoch 9/300\n",
      "3587/3587 [==============================] - 1s 158us/step - loss: 0.4312 - acc: 0.8040 - val_loss: 0.7113 - val_acc: 0.6957\n",
      "Epoch 10/300\n",
      "3587/3587 [==============================] - 1s 155us/step - loss: 0.4268 - acc: 0.8081 - val_loss: 0.7088 - val_acc: 0.7012\n",
      "Epoch 11/300\n",
      "3587/3587 [==============================] - 1s 154us/step - loss: 0.4310 - acc: 0.7983 - val_loss: 0.7233 - val_acc: 0.6968\n",
      "Epoch 12/300\n",
      "3587/3587 [==============================] - 1s 153us/step - loss: 0.4293 - acc: 0.8004 - val_loss: 0.7338 - val_acc: 0.6945\n",
      "Epoch 13/300\n",
      "3587/3587 [==============================] - 1s 156us/step - loss: 0.4197 - acc: 0.8069 - val_loss: 0.7209 - val_acc: 0.6968\n",
      "Epoch 14/300\n",
      "3587/3587 [==============================] - 1s 154us/step - loss: 0.4219 - acc: 0.8049 - val_loss: 0.7214 - val_acc: 0.6957\n",
      "Epoch 15/300\n",
      "3587/3587 [==============================] - 1s 155us/step - loss: 0.4229 - acc: 0.8107 - val_loss: 0.7307 - val_acc: 0.6990\n",
      "Epoch 16/300\n",
      "3587/3587 [==============================] - 1s 165us/step - loss: 0.4213 - acc: 0.8053 - val_loss: 0.7219 - val_acc: 0.6878\n",
      "Epoch 17/300\n",
      "3587/3587 [==============================] - 1s 195us/step - loss: 0.4276 - acc: 0.8054 - val_loss: 0.7288 - val_acc: 0.6823\n",
      "Epoch 18/300\n",
      "3587/3587 [==============================] - 1s 192us/step - loss: 0.4204 - acc: 0.8146 - val_loss: 0.7389 - val_acc: 0.6923\n",
      "Epoch 19/300\n",
      "3587/3587 [==============================] - 1s 156us/step - loss: 0.4198 - acc: 0.8101 - val_loss: 0.7226 - val_acc: 0.6973\n",
      "Epoch 20/300\n",
      "3587/3587 [==============================] - 1s 153us/step - loss: 0.4344 - acc: 0.7989 - val_loss: 0.7167 - val_acc: 0.6856\n",
      "Epoch 21/300\n",
      "3587/3587 [==============================] - 1s 155us/step - loss: 0.4148 - acc: 0.8121 - val_loss: 0.7357 - val_acc: 0.6923\n",
      "Epoch 22/300\n",
      "3587/3587 [==============================] - 1s 188us/step - loss: 0.4142 - acc: 0.8107 - val_loss: 0.7241 - val_acc: 0.6957\n",
      "Epoch 23/300\n",
      "3587/3587 [==============================] - 1s 155us/step - loss: 0.4105 - acc: 0.8142 - val_loss: 0.7493 - val_acc: 0.6990\n",
      "Epoch 24/300\n",
      "3587/3587 [==============================] - 1s 155us/step - loss: 0.4159 - acc: 0.8071 - val_loss: 0.7242 - val_acc: 0.6934\n",
      "Epoch 25/300\n",
      "3587/3587 [==============================] - 1s 157us/step - loss: 0.4243 - acc: 0.8082 - val_loss: 0.7365 - val_acc: 0.6901\n",
      "Epoch 26/300\n",
      "3587/3587 [==============================] - 1s 154us/step - loss: 0.4163 - acc: 0.8113 - val_loss: 0.7619 - val_acc: 0.6968\n",
      "Epoch 27/300\n",
      "3587/3587 [==============================] - 1s 186us/step - loss: 0.4148 - acc: 0.8121 - val_loss: 0.7659 - val_acc: 0.6867\n",
      "Epoch 28/300\n",
      "3587/3587 [==============================] - 1s 161us/step - loss: 0.4226 - acc: 0.8089 - val_loss: 0.7394 - val_acc: 0.6979\n",
      "Epoch 29/300\n",
      "3587/3587 [==============================] - 1s 153us/step - loss: 0.4040 - acc: 0.8164 - val_loss: 0.7634 - val_acc: 0.6901\n",
      "Epoch 30/300\n",
      "3587/3587 [==============================] - 1s 183us/step - loss: 0.4160 - acc: 0.8138 - val_loss: 0.7362 - val_acc: 0.6912\n",
      "Epoch 31/300\n",
      "3587/3587 [==============================] - 1s 155us/step - loss: 0.4117 - acc: 0.8166 - val_loss: 0.7528 - val_acc: 0.6912\n",
      "Epoch 32/300\n",
      "3587/3587 [==============================] - 1s 155us/step - loss: 0.4023 - acc: 0.8181 - val_loss: 0.7586 - val_acc: 0.6923\n",
      "Epoch 33/300\n",
      "3587/3587 [==============================] - 1s 161us/step - loss: 0.4080 - acc: 0.8193 - val_loss: 0.7591 - val_acc: 0.6901\n",
      "Epoch 34/300\n",
      "3587/3587 [==============================] - 1s 163us/step - loss: 0.4024 - acc: 0.8233 - val_loss: 0.7685 - val_acc: 0.6934\n",
      "Epoch 35/300\n",
      "3587/3587 [==============================] - 1s 170us/step - loss: 0.4016 - acc: 0.8200 - val_loss: 0.7677 - val_acc: 0.6990\n",
      "Epoch 36/300\n",
      "3587/3587 [==============================] - 1s 154us/step - loss: 0.4003 - acc: 0.8157 - val_loss: 0.7685 - val_acc: 0.6945\n",
      "Epoch 37/300\n",
      "3587/3587 [==============================] - 1s 169us/step - loss: 0.4058 - acc: 0.8175 - val_loss: 0.7670 - val_acc: 0.6934\n",
      "Epoch 38/300\n",
      "3587/3587 [==============================] - 1s 182us/step - loss: 0.4076 - acc: 0.8166 - val_loss: 0.7530 - val_acc: 0.6968\n",
      "Epoch 39/300\n",
      "3587/3587 [==============================] - 1s 180us/step - loss: 0.4088 - acc: 0.8166 - val_loss: 0.7548 - val_acc: 0.6878\n",
      "Epoch 40/300\n",
      "3587/3587 [==============================] - 1s 164us/step - loss: 0.4098 - acc: 0.8135 - val_loss: 0.7663 - val_acc: 0.6890\n",
      "Epoch 41/300\n",
      "3587/3587 [==============================] - 1s 171us/step - loss: 0.4107 - acc: 0.8171 - val_loss: 0.7573 - val_acc: 0.6979\n",
      "Epoch 42/300\n",
      "3587/3587 [==============================] - 1s 162us/step - loss: 0.4040 - acc: 0.8188 - val_loss: 0.7724 - val_acc: 0.6957\n",
      "Epoch 43/300\n",
      "3587/3587 [==============================] - 1s 157us/step - loss: 0.4006 - acc: 0.8154 - val_loss: 0.7629 - val_acc: 0.6912\n",
      "Epoch 44/300\n",
      "3587/3587 [==============================] - 1s 165us/step - loss: 0.4051 - acc: 0.8149 - val_loss: 0.7584 - val_acc: 0.6923\n",
      "Epoch 45/300\n",
      "3587/3587 [==============================] - 1s 202us/step - loss: 0.4035 - acc: 0.8199 - val_loss: 0.7814 - val_acc: 0.6990\n",
      "Epoch 46/300\n",
      "3587/3587 [==============================] - 1s 191us/step - loss: 0.4028 - acc: 0.8182 - val_loss: 0.7764 - val_acc: 0.6957\n",
      "Epoch 47/300\n",
      "3587/3587 [==============================] - 1s 160us/step - loss: 0.3939 - acc: 0.8238 - val_loss: 0.7974 - val_acc: 0.6934\n",
      "Epoch 48/300\n",
      "3587/3587 [==============================] - 1s 166us/step - loss: 0.4045 - acc: 0.8182 - val_loss: 0.7832 - val_acc: 0.6845\n",
      "Epoch 49/300\n",
      "3587/3587 [==============================] - 1s 186us/step - loss: 0.3988 - acc: 0.8152 - val_loss: 0.7915 - val_acc: 0.6878\n",
      "Epoch 50/300\n",
      "3587/3587 [==============================] - 1s 163us/step - loss: 0.3961 - acc: 0.8214 - val_loss: 0.7862 - val_acc: 0.6867\n",
      "Epoch 51/300\n",
      "3587/3587 [==============================] - 1s 161us/step - loss: 0.3969 - acc: 0.8210 - val_loss: 0.8052 - val_acc: 0.6901\n",
      "Epoch 52/300\n",
      "3587/3587 [==============================] - 1s 165us/step - loss: 0.4151 - acc: 0.8141 - val_loss: 0.8132 - val_acc: 0.7035\n",
      "Epoch 53/300\n",
      "3587/3587 [==============================] - 1s 156us/step - loss: 0.3916 - acc: 0.8246 - val_loss: 0.8026 - val_acc: 0.6945\n",
      "Epoch 54/300\n",
      "3587/3587 [==============================] - 1s 203us/step - loss: 0.3918 - acc: 0.8285 - val_loss: 0.8056 - val_acc: 0.6890\n",
      "Epoch 55/300\n",
      "3587/3587 [==============================] - 1s 161us/step - loss: 0.3957 - acc: 0.8216 - val_loss: 0.8135 - val_acc: 0.6968\n",
      "Epoch 56/300\n",
      "3587/3587 [==============================] - 1s 167us/step - loss: 0.4212 - acc: 0.8037 - val_loss: 0.7671 - val_acc: 0.6990\n",
      "Epoch 57/300\n",
      "3587/3587 [==============================] - 1s 157us/step - loss: 0.4043 - acc: 0.8163 - val_loss: 0.7982 - val_acc: 0.6890\n",
      "Epoch 58/300\n",
      "3587/3587 [==============================] - 1s 164us/step - loss: 0.3947 - acc: 0.8233 - val_loss: 0.8026 - val_acc: 0.6878\n",
      "Epoch 59/300\n",
      "3587/3587 [==============================] - 1s 163us/step - loss: 0.3979 - acc: 0.8230 - val_loss: 0.8199 - val_acc: 0.6945\n",
      "Epoch 60/300\n"
     ]
    },
    {
     "name": "stdout",
     "output_type": "stream",
     "text": [
      "3587/3587 [==============================] - 1s 147us/step - loss: 0.3918 - acc: 0.8249 - val_loss: 0.8188 - val_acc: 0.6945\n",
      "Epoch 61/300\n",
      "3587/3587 [==============================] - 1s 144us/step - loss: 0.3957 - acc: 0.8177 - val_loss: 0.8171 - val_acc: 0.6957\n",
      "Epoch 62/300\n",
      "3587/3587 [==============================] - 1s 141us/step - loss: 0.3918 - acc: 0.8213 - val_loss: 0.8302 - val_acc: 0.6923\n",
      "Epoch 63/300\n",
      "3587/3587 [==============================] - 1s 141us/step - loss: 0.3933 - acc: 0.8188 - val_loss: 0.8428 - val_acc: 0.6945\n",
      "Epoch 64/300\n",
      "3587/3587 [==============================] - 1s 140us/step - loss: 0.3857 - acc: 0.8249 - val_loss: 0.8266 - val_acc: 0.6867\n",
      "Epoch 65/300\n",
      "3587/3587 [==============================] - 1s 291us/step - loss: 0.3873 - acc: 0.8283 - val_loss: 0.8345 - val_acc: 0.6990\n",
      "Epoch 66/300\n",
      "3587/3587 [==============================] - 1s 185us/step - loss: 0.3806 - acc: 0.8323 - val_loss: 0.8223 - val_acc: 0.6945\n",
      "Epoch 67/300\n",
      "3587/3587 [==============================] - 1s 283us/step - loss: 0.3909 - acc: 0.8219 - val_loss: 0.8361 - val_acc: 0.6856\n",
      "Epoch 68/300\n",
      "3587/3587 [==============================] - 1s 205us/step - loss: 0.4225 - acc: 0.8088 - val_loss: 0.8192 - val_acc: 0.6878\n",
      "Epoch 69/300\n",
      "3587/3587 [==============================] - 1s 163us/step - loss: 0.3965 - acc: 0.8184 - val_loss: 0.8349 - val_acc: 0.6934\n",
      "Epoch 70/300\n",
      "3587/3587 [==============================] - 1s 160us/step - loss: 0.3953 - acc: 0.8188 - val_loss: 0.8434 - val_acc: 0.6934\n",
      "Epoch 71/300\n",
      "3587/3587 [==============================] - 1s 154us/step - loss: 0.3895 - acc: 0.8246 - val_loss: 0.8386 - val_acc: 0.6934\n",
      "Epoch 72/300\n",
      "3587/3587 [==============================] - 1s 183us/step - loss: 0.3930 - acc: 0.8216 - val_loss: 0.8428 - val_acc: 0.6845\n",
      "Epoch 73/300\n",
      "3587/3587 [==============================] - 1s 154us/step - loss: 0.3847 - acc: 0.8276 - val_loss: 0.8648 - val_acc: 0.6968\n",
      "Epoch 74/300\n",
      "3587/3587 [==============================] - 1s 163us/step - loss: 0.3878 - acc: 0.8224 - val_loss: 0.8260 - val_acc: 0.6890\n",
      "Epoch 75/300\n",
      "3587/3587 [==============================] - 1s 181us/step - loss: 0.3858 - acc: 0.8272 - val_loss: 0.8482 - val_acc: 0.6990\n",
      "Epoch 76/300\n",
      "3587/3587 [==============================] - 1s 179us/step - loss: 0.3786 - acc: 0.8336 - val_loss: 0.8895 - val_acc: 0.7046\n",
      "Epoch 77/300\n",
      "3587/3587 [==============================] - 1s 179us/step - loss: 0.3786 - acc: 0.8288 - val_loss: 0.8529 - val_acc: 0.7023\n",
      "Epoch 78/300\n",
      "3587/3587 [==============================] - 1s 187us/step - loss: 0.3896 - acc: 0.8256 - val_loss: 0.8549 - val_acc: 0.6867\n",
      "Epoch 79/300\n",
      "3587/3587 [==============================] - 1s 177us/step - loss: 0.3881 - acc: 0.8230 - val_loss: 0.8118 - val_acc: 0.6979\n",
      "Epoch 80/300\n",
      "3587/3587 [==============================] - 1s 170us/step - loss: 0.3815 - acc: 0.8269 - val_loss: 0.8579 - val_acc: 0.6934\n",
      "Epoch 81/300\n",
      "3587/3587 [==============================] - 1s 189us/step - loss: 0.3851 - acc: 0.8292 - val_loss: 0.8235 - val_acc: 0.6873\n",
      "Epoch 82/300\n",
      "3587/3587 [==============================] - 1s 161us/step - loss: 0.3854 - acc: 0.8266 - val_loss: 0.8710 - val_acc: 0.7035\n",
      "Epoch 83/300\n",
      "3587/3587 [==============================] - 1s 182us/step - loss: 0.3787 - acc: 0.8319 - val_loss: 0.8698 - val_acc: 0.6923\n",
      "Epoch 84/300\n",
      "3587/3587 [==============================] - 1s 173us/step - loss: 0.3782 - acc: 0.8327 - val_loss: 0.8739 - val_acc: 0.7035\n",
      "Epoch 85/300\n",
      "3587/3587 [==============================] - 1s 158us/step - loss: 0.3861 - acc: 0.8285 - val_loss: 0.8938 - val_acc: 0.7001\n",
      "Epoch 86/300\n",
      "3587/3587 [==============================] - 1s 183us/step - loss: 0.3817 - acc: 0.8283 - val_loss: 0.9040 - val_acc: 0.6867\n",
      "Epoch 87/300\n",
      "3587/3587 [==============================] - 1s 178us/step - loss: 0.3831 - acc: 0.8269 - val_loss: 0.8516 - val_acc: 0.6990\n",
      "Epoch 88/300\n",
      "3587/3587 [==============================] - 1s 180us/step - loss: 0.3844 - acc: 0.8266 - val_loss: 0.8541 - val_acc: 0.6934\n",
      "Epoch 89/300\n",
      "3587/3587 [==============================] - 1s 181us/step - loss: 0.3855 - acc: 0.8246 - val_loss: 0.8659 - val_acc: 0.7012\n",
      "Epoch 90/300\n",
      "3587/3587 [==============================] - 1s 179us/step - loss: 0.3832 - acc: 0.8251 - val_loss: 0.8588 - val_acc: 0.7079\n",
      "Epoch 91/300\n",
      "3587/3587 [==============================] - 1s 177us/step - loss: 0.3818 - acc: 0.8252 - val_loss: 0.8629 - val_acc: 0.6990\n",
      "Epoch 92/300\n",
      "3587/3587 [==============================] - 1s 172us/step - loss: 0.3775 - acc: 0.8248 - val_loss: 0.8601 - val_acc: 0.6979\n",
      "Epoch 93/300\n",
      "3587/3587 [==============================] - 1s 174us/step - loss: 0.3872 - acc: 0.8272 - val_loss: 0.8451 - val_acc: 0.7001\n",
      "Epoch 94/300\n",
      "3587/3587 [==============================] - 1s 193us/step - loss: 0.3768 - acc: 0.8327 - val_loss: 0.8524 - val_acc: 0.7001\n",
      "Epoch 95/300\n",
      "3587/3587 [==============================] - 1s 178us/step - loss: 0.3845 - acc: 0.8265 - val_loss: 0.8703 - val_acc: 0.7001\n",
      "Epoch 96/300\n",
      "3587/3587 [==============================] - 1s 182us/step - loss: 0.3763 - acc: 0.8325 - val_loss: 0.8805 - val_acc: 0.6968\n",
      "Epoch 97/300\n",
      "3587/3587 [==============================] - 1s 185us/step - loss: 0.3766 - acc: 0.8302 - val_loss: 0.8687 - val_acc: 0.6957\n",
      "Epoch 98/300\n",
      "3587/3587 [==============================] - 1s 189us/step - loss: 0.3800 - acc: 0.8258 - val_loss: 0.8677 - val_acc: 0.6968\n",
      "Epoch 99/300\n",
      "3587/3587 [==============================] - 1s 162us/step - loss: 0.3818 - acc: 0.8290 - val_loss: 0.8873 - val_acc: 0.6940\n",
      "Epoch 100/300\n",
      "3587/3587 [==============================] - 1s 163us/step - loss: 0.3764 - acc: 0.8341 - val_loss: 0.9306 - val_acc: 0.6990\n",
      "Epoch 101/300\n",
      "3587/3587 [==============================] - 1s 158us/step - loss: 0.3706 - acc: 0.8350 - val_loss: 0.8936 - val_acc: 0.6934\n",
      "Epoch 102/300\n",
      "3587/3587 [==============================] - 1s 166us/step - loss: 0.3775 - acc: 0.8267 - val_loss: 0.9159 - val_acc: 0.7001\n",
      "Epoch 103/300\n",
      "3587/3587 [==============================] - 1s 188us/step - loss: 0.3739 - acc: 0.8355 - val_loss: 0.9055 - val_acc: 0.6990\n",
      "Epoch 104/300\n",
      "3587/3587 [==============================] - 1s 195us/step - loss: 0.3877 - acc: 0.8272 - val_loss: 0.8932 - val_acc: 0.6945\n",
      "Epoch 105/300\n",
      "3587/3587 [==============================] - 1s 194us/step - loss: 0.3810 - acc: 0.8299 - val_loss: 0.8491 - val_acc: 0.6990\n",
      "Epoch 106/300\n",
      "3587/3587 [==============================] - 1s 175us/step - loss: 0.3710 - acc: 0.8308 - val_loss: 0.8966 - val_acc: 0.6957\n",
      "Epoch 107/300\n",
      "3587/3587 [==============================] - 1s 186us/step - loss: 0.3688 - acc: 0.8322 - val_loss: 0.8823 - val_acc: 0.6990\n",
      "Epoch 108/300\n",
      "3587/3587 [==============================] - 1s 194us/step - loss: 0.3804 - acc: 0.8283 - val_loss: 0.8822 - val_acc: 0.7012\n",
      "Epoch 109/300\n",
      "3587/3587 [==============================] - 1s 163us/step - loss: 0.3764 - acc: 0.8260 - val_loss: 0.9252 - val_acc: 0.7057\n",
      "Epoch 110/300\n",
      "3587/3587 [==============================] - 1s 184us/step - loss: 0.3675 - acc: 0.8344 - val_loss: 0.9153 - val_acc: 0.6979\n",
      "Epoch 111/300\n",
      "3587/3587 [==============================] - 1s 190us/step - loss: 0.3736 - acc: 0.8333 - val_loss: 0.9155 - val_acc: 0.6990\n",
      "Epoch 112/300\n",
      "3587/3587 [==============================] - 1s 158us/step - loss: 0.3795 - acc: 0.8291 - val_loss: 0.8785 - val_acc: 0.6856\n",
      "Epoch 113/300\n",
      "3587/3587 [==============================] - 1s 193us/step - loss: 0.3735 - acc: 0.8330 - val_loss: 0.8815 - val_acc: 0.6945\n",
      "Epoch 114/300\n",
      "3587/3587 [==============================] - 1s 186us/step - loss: 0.3705 - acc: 0.8299 - val_loss: 0.8957 - val_acc: 0.6968\n",
      "Epoch 115/300\n",
      "3587/3587 [==============================] - 1s 183us/step - loss: 0.3751 - acc: 0.8319 - val_loss: 0.8845 - val_acc: 0.6901\n",
      "Epoch 116/300\n",
      "3587/3587 [==============================] - 1s 176us/step - loss: 0.3711 - acc: 0.8336 - val_loss: 0.8809 - val_acc: 0.7057\n",
      "Epoch 117/300\n",
      "3587/3587 [==============================] - 1s 181us/step - loss: 0.3696 - acc: 0.8347 - val_loss: 0.8976 - val_acc: 0.7012\n",
      "Epoch 118/300\n",
      "3587/3587 [==============================] - 1s 181us/step - loss: 0.3682 - acc: 0.8333 - val_loss: 0.9128 - val_acc: 0.7001\n",
      "Epoch 119/300\n"
     ]
    },
    {
     "name": "stdout",
     "output_type": "stream",
     "text": [
      "3587/3587 [==============================] - 1s 141us/step - loss: 0.3680 - acc: 0.8347 - val_loss: 0.8833 - val_acc: 0.6934\n",
      "Epoch 120/300\n",
      "3587/3587 [==============================] - 1s 182us/step - loss: 0.3687 - acc: 0.8316 - val_loss: 0.9000 - val_acc: 0.6934\n",
      "Epoch 121/300\n",
      "3587/3587 [==============================] - 1s 180us/step - loss: 0.3714 - acc: 0.8291 - val_loss: 0.9036 - val_acc: 0.6923\n",
      "Epoch 122/300\n",
      "3587/3587 [==============================] - 1s 149us/step - loss: 0.3790 - acc: 0.8290 - val_loss: 0.8821 - val_acc: 0.6934\n",
      "Epoch 123/300\n",
      "3587/3587 [==============================] - 1s 150us/step - loss: 0.3751 - acc: 0.8325 - val_loss: 0.8717 - val_acc: 0.7023\n",
      "Epoch 124/300\n",
      "3587/3587 [==============================] - 1s 152us/step - loss: 0.3690 - acc: 0.8333 - val_loss: 0.8871 - val_acc: 0.6990\n",
      "Epoch 125/300\n",
      "3587/3587 [==============================] - 1s 154us/step - loss: 0.3801 - acc: 0.8285 - val_loss: 0.8694 - val_acc: 0.7035\n",
      "Epoch 126/300\n",
      "3587/3587 [==============================] - 1s 154us/step - loss: 0.3681 - acc: 0.8338 - val_loss: 0.8826 - val_acc: 0.6990\n",
      "Epoch 127/300\n",
      "3587/3587 [==============================] - 1s 152us/step - loss: 0.3746 - acc: 0.8330 - val_loss: 0.8952 - val_acc: 0.6945\n",
      "Epoch 128/300\n",
      "3587/3587 [==============================] - 1s 151us/step - loss: 0.3737 - acc: 0.8325 - val_loss: 0.9055 - val_acc: 0.7001\n",
      "Epoch 129/300\n",
      "3587/3587 [==============================] - 1s 156us/step - loss: 0.3676 - acc: 0.8366 - val_loss: 0.9068 - val_acc: 0.6945\n",
      "Epoch 130/300\n",
      "3587/3587 [==============================] - 1s 173us/step - loss: 0.3614 - acc: 0.8357 - val_loss: 0.9355 - val_acc: 0.7012\n",
      "Epoch 131/300\n",
      "3587/3587 [==============================] - 1s 153us/step - loss: 0.3620 - acc: 0.8372 - val_loss: 0.9430 - val_acc: 0.6968\n",
      "Epoch 132/300\n",
      "3587/3587 [==============================] - 1s 152us/step - loss: 0.3653 - acc: 0.8377 - val_loss: 0.9537 - val_acc: 0.6923\n",
      "Epoch 133/300\n",
      "3587/3587 [==============================] - 1s 151us/step - loss: 0.3655 - acc: 0.8311 - val_loss: 0.9602 - val_acc: 0.6957\n",
      "Epoch 134/300\n",
      "3587/3587 [==============================] - 1s 155us/step - loss: 0.3633 - acc: 0.8366 - val_loss: 0.9401 - val_acc: 0.6979\n",
      "Epoch 135/300\n",
      "3587/3587 [==============================] - 1s 152us/step - loss: 0.3642 - acc: 0.8375 - val_loss: 0.9342 - val_acc: 0.6934\n",
      "Epoch 136/300\n",
      "3587/3587 [==============================] - 1s 152us/step - loss: 0.3524 - acc: 0.8411 - val_loss: 0.9744 - val_acc: 0.6934\n",
      "Epoch 137/300\n",
      "3587/3587 [==============================] - 1s 151us/step - loss: 0.3677 - acc: 0.8361 - val_loss: 0.9540 - val_acc: 0.6979\n",
      "Epoch 138/300\n",
      "3587/3587 [==============================] - 1s 154us/step - loss: 0.3775 - acc: 0.8280 - val_loss: 0.9053 - val_acc: 0.6979\n",
      "Epoch 139/300\n",
      "3587/3587 [==============================] - 1s 153us/step - loss: 0.3546 - acc: 0.8405 - val_loss: 0.9562 - val_acc: 0.6878\n",
      "Epoch 140/300\n",
      "3587/3587 [==============================] - 1s 160us/step - loss: 0.3758 - acc: 0.8325 - val_loss: 0.9217 - val_acc: 0.6912\n",
      "Epoch 141/300\n",
      "3587/3587 [==============================] - 1s 151us/step - loss: 0.3607 - acc: 0.8366 - val_loss: 0.9404 - val_acc: 0.7012\n",
      "Epoch 142/300\n",
      "3587/3587 [==============================] - 1s 154us/step - loss: 0.3543 - acc: 0.8408 - val_loss: 0.9658 - val_acc: 0.6957\n",
      "Epoch 143/300\n",
      "3587/3587 [==============================] - 1s 152us/step - loss: 0.3999 - acc: 0.8237 - val_loss: 0.9063 - val_acc: 0.6878\n",
      "Epoch 144/300\n",
      "3587/3587 [==============================] - 1s 243us/step - loss: 0.3881 - acc: 0.8221 - val_loss: 0.9418 - val_acc: 0.6867\n",
      "Epoch 145/300\n",
      "3587/3587 [==============================] - 1s 245us/step - loss: 0.3694 - acc: 0.8336 - val_loss: 0.9026 - val_acc: 0.6968\n",
      "Epoch 146/300\n",
      "3587/3587 [==============================] - 1s 214us/step - loss: 0.3649 - acc: 0.8375 - val_loss: 0.9301 - val_acc: 0.6968\n",
      "Epoch 147/300\n",
      "3587/3587 [==============================] - 1s 203us/step - loss: 0.3593 - acc: 0.8405 - val_loss: 0.9311 - val_acc: 0.6945\n",
      "Epoch 148/300\n",
      "3587/3587 [==============================] - 1s 212us/step - loss: 0.3661 - acc: 0.8397 - val_loss: 0.9308 - val_acc: 0.6957\n",
      "Epoch 149/300\n",
      "3587/3587 [==============================] - 1s 248us/step - loss: 0.3641 - acc: 0.8369 - val_loss: 0.9331 - val_acc: 0.6968\n",
      "Epoch 150/300\n",
      "3587/3587 [==============================] - 1s 205us/step - loss: 0.3572 - acc: 0.8383 - val_loss: 0.9623 - val_acc: 0.6890\n",
      "Epoch 151/300\n",
      "3587/3587 [==============================] - 1s 194us/step - loss: 0.3607 - acc: 0.8391 - val_loss: 0.9935 - val_acc: 0.6968\n",
      "Epoch 152/300\n",
      "3587/3587 [==============================] - 1s 176us/step - loss: 0.3708 - acc: 0.8325 - val_loss: 0.9895 - val_acc: 0.6990\n",
      "Epoch 153/300\n",
      "3587/3587 [==============================] - 1s 185us/step - loss: 0.3528 - acc: 0.8397 - val_loss: 0.9892 - val_acc: 0.6912\n",
      "Epoch 154/300\n",
      "3587/3587 [==============================] - 1s 189us/step - loss: 0.3586 - acc: 0.8417 - val_loss: 0.9690 - val_acc: 0.7035\n",
      "Epoch 155/300\n",
      "3587/3587 [==============================] - 1s 187us/step - loss: 0.3616 - acc: 0.8394 - val_loss: 0.9468 - val_acc: 0.7012\n",
      "Epoch 156/300\n",
      "3587/3587 [==============================] - 1s 177us/step - loss: 0.3549 - acc: 0.8433 - val_loss: 0.9810 - val_acc: 0.6934\n",
      "Epoch 157/300\n",
      "3587/3587 [==============================] - 1s 173us/step - loss: 0.3592 - acc: 0.8361 - val_loss: 0.9618 - val_acc: 0.6856\n",
      "Epoch 158/300\n",
      "3587/3587 [==============================] - 1s 186us/step - loss: 0.3591 - acc: 0.8408 - val_loss: 0.9884 - val_acc: 0.7023\n",
      "Epoch 159/300\n",
      "3587/3587 [==============================] - 1s 174us/step - loss: 0.3636 - acc: 0.8389 - val_loss: 0.9337 - val_acc: 0.6934\n",
      "Epoch 160/300\n",
      "3587/3587 [==============================] - 1s 184us/step - loss: 0.3640 - acc: 0.8338 - val_loss: 0.9560 - val_acc: 0.6901\n",
      "Epoch 161/300\n",
      "3587/3587 [==============================] - 1s 179us/step - loss: 0.3643 - acc: 0.8366 - val_loss: 0.9398 - val_acc: 0.7113\n",
      "Epoch 162/300\n",
      "3587/3587 [==============================] - 1s 158us/step - loss: 0.3537 - acc: 0.8422 - val_loss: 0.9551 - val_acc: 0.6968\n",
      "Epoch 163/300\n",
      "3587/3587 [==============================] - 1s 189us/step - loss: 0.3550 - acc: 0.8372 - val_loss: 0.9690 - val_acc: 0.6912\n",
      "Epoch 164/300\n",
      "3587/3587 [==============================] - 1s 217us/step - loss: 0.3648 - acc: 0.8372 - val_loss: 0.9618 - val_acc: 0.7023\n",
      "Epoch 165/300\n",
      "3587/3587 [==============================] - 1s 171us/step - loss: 0.3600 - acc: 0.8325 - val_loss: 1.0058 - val_acc: 0.6945\n",
      "Epoch 166/300\n",
      "3587/3587 [==============================] - 1s 342us/step - loss: 0.3543 - acc: 0.8419 - val_loss: 0.9799 - val_acc: 0.7035\n",
      "Epoch 167/300\n",
      "3587/3587 [==============================] - 1s 180us/step - loss: 0.3657 - acc: 0.8383 - val_loss: 0.9557 - val_acc: 0.6979\n",
      "Epoch 168/300\n",
      "3587/3587 [==============================] - 1s 187us/step - loss: 0.3566 - acc: 0.8389 - val_loss: 0.9916 - val_acc: 0.6945\n",
      "Epoch 169/300\n",
      "3587/3587 [==============================] - 1s 164us/step - loss: 0.3751 - acc: 0.8273 - val_loss: 0.9640 - val_acc: 0.6979\n",
      "Epoch 170/300\n",
      "3587/3587 [==============================] - 1s 163us/step - loss: 0.3526 - acc: 0.8417 - val_loss: 0.9806 - val_acc: 0.6979\n",
      "Epoch 171/300\n",
      "3587/3587 [==============================] - 1s 209us/step - loss: 0.3605 - acc: 0.8383 - val_loss: 0.9588 - val_acc: 0.6968\n",
      "Epoch 172/300\n",
      "3587/3587 [==============================] - 1s 184us/step - loss: 0.3549 - acc: 0.8397 - val_loss: 1.0008 - val_acc: 0.6957\n",
      "Epoch 173/300\n",
      "3587/3587 [==============================] - 1s 166us/step - loss: 0.3536 - acc: 0.8425 - val_loss: 0.9980 - val_acc: 0.7023\n",
      "Epoch 174/300\n",
      "3587/3587 [==============================] - 1s 190us/step - loss: 0.3745 - acc: 0.8344 - val_loss: 0.9539 - val_acc: 0.7023\n",
      "Epoch 175/300\n",
      "3587/3587 [==============================] - 1s 187us/step - loss: 0.3782 - acc: 0.8299 - val_loss: 0.9796 - val_acc: 0.6901\n",
      "Epoch 176/300\n",
      "3587/3587 [==============================] - 1s 184us/step - loss: 0.3574 - acc: 0.8366 - val_loss: 1.0118 - val_acc: 0.7113\n",
      "Epoch 177/300\n",
      "3587/3587 [==============================] - 1s 165us/step - loss: 0.3550 - acc: 0.8397 - val_loss: 0.9804 - val_acc: 0.7012\n",
      "Epoch 178/300\n"
     ]
    },
    {
     "name": "stdout",
     "output_type": "stream",
     "text": [
      "3587/3587 [==============================] - 1s 185us/step - loss: 0.3548 - acc: 0.8428 - val_loss: 0.9943 - val_acc: 0.7113\n",
      "Epoch 179/300\n",
      "3587/3587 [==============================] - 1s 172us/step - loss: 0.3453 - acc: 0.8464 - val_loss: 0.9822 - val_acc: 0.7046\n",
      "Epoch 180/300\n",
      "3587/3587 [==============================] - 1s 153us/step - loss: 0.3890 - acc: 0.8249 - val_loss: 0.9601 - val_acc: 0.7001\n",
      "Epoch 181/300\n",
      "3587/3587 [==============================] - 1s 193us/step - loss: 0.3741 - acc: 0.8319 - val_loss: 0.9927 - val_acc: 0.6945\n",
      "Epoch 182/300\n",
      "3587/3587 [==============================] - 1s 175us/step - loss: 0.3655 - acc: 0.8386 - val_loss: 0.9787 - val_acc: 0.7001\n",
      "Epoch 183/300\n",
      "3587/3587 [==============================] - 1s 180us/step - loss: 0.3660 - acc: 0.8375 - val_loss: 0.9860 - val_acc: 0.6957\n",
      "Epoch 184/300\n",
      "3587/3587 [==============================] - 1s 179us/step - loss: 0.3530 - acc: 0.8433 - val_loss: 1.0024 - val_acc: 0.6923\n",
      "Epoch 185/300\n",
      "3587/3587 [==============================] - 1s 172us/step - loss: 0.3548 - acc: 0.8414 - val_loss: 0.9633 - val_acc: 0.6923\n",
      "Epoch 186/300\n",
      "3587/3587 [==============================] - 1s 180us/step - loss: 0.3599 - acc: 0.8422 - val_loss: 0.9689 - val_acc: 0.6968\n",
      "Epoch 187/300\n",
      "3587/3587 [==============================] - 1s 162us/step - loss: 0.3558 - acc: 0.8405 - val_loss: 0.9646 - val_acc: 0.6979\n",
      "Epoch 188/300\n",
      "3587/3587 [==============================] - 1s 184us/step - loss: 0.3574 - acc: 0.8391 - val_loss: 0.9838 - val_acc: 0.7057\n",
      "Epoch 189/300\n",
      "3587/3587 [==============================] - 1s 178us/step - loss: 0.3595 - acc: 0.8386 - val_loss: 0.9877 - val_acc: 0.7035\n",
      "Epoch 190/300\n",
      "3587/3587 [==============================] - 1s 159us/step - loss: 0.3592 - acc: 0.8397 - val_loss: 0.9686 - val_acc: 0.6990\n",
      "Epoch 191/300\n",
      "3587/3587 [==============================] - 1s 162us/step - loss: 0.3497 - acc: 0.8450 - val_loss: 0.9832 - val_acc: 0.7001\n",
      "Epoch 192/300\n",
      "3587/3587 [==============================] - 1s 161us/step - loss: 0.3498 - acc: 0.8428 - val_loss: 1.0032 - val_acc: 0.6979\n",
      "Epoch 193/300\n",
      "3587/3587 [==============================] - 1s 163us/step - loss: 0.3455 - acc: 0.8442 - val_loss: 1.0249 - val_acc: 0.6979\n",
      "Epoch 194/300\n",
      "3587/3587 [==============================] - 1s 195us/step - loss: 0.3610 - acc: 0.8394 - val_loss: 0.9890 - val_acc: 0.7023\n",
      "Epoch 195/300\n",
      "3587/3587 [==============================] - 1s 187us/step - loss: 0.3436 - acc: 0.8489 - val_loss: 1.0536 - val_acc: 0.7012\n",
      "Epoch 196/300\n",
      "3587/3587 [==============================] - 1s 181us/step - loss: 0.3394 - acc: 0.8514 - val_loss: 0.9954 - val_acc: 0.7046\n",
      "Epoch 197/300\n",
      "3587/3587 [==============================] - 1s 180us/step - loss: 0.3431 - acc: 0.8495 - val_loss: 1.0294 - val_acc: 0.7035\n",
      "Epoch 198/300\n",
      "3587/3587 [==============================] - 1s 180us/step - loss: 0.3479 - acc: 0.8425 - val_loss: 1.0126 - val_acc: 0.7079\n",
      "Epoch 199/300\n",
      "3587/3587 [==============================] - 1s 179us/step - loss: 0.3523 - acc: 0.8380 - val_loss: 1.0046 - val_acc: 0.7057\n",
      "Epoch 200/300\n",
      "3587/3587 [==============================] - 1s 166us/step - loss: 0.3516 - acc: 0.8417 - val_loss: 1.0254 - val_acc: 0.6934\n",
      "Epoch 201/300\n",
      "3587/3587 [==============================] - 1s 185us/step - loss: 0.3725 - acc: 0.8319 - val_loss: 0.9667 - val_acc: 0.7012\n",
      "Epoch 202/300\n",
      "3587/3587 [==============================] - 1s 183us/step - loss: 0.3626 - acc: 0.8400 - val_loss: 0.9713 - val_acc: 0.6945\n",
      "Epoch 203/300\n",
      "3587/3587 [==============================] - 1s 178us/step - loss: 0.3448 - acc: 0.8442 - val_loss: 0.9979 - val_acc: 0.7035\n",
      "Epoch 204/300\n",
      "3587/3587 [==============================] - 1s 179us/step - loss: 0.3553 - acc: 0.8436 - val_loss: 0.9833 - val_acc: 0.7046\n",
      "Epoch 205/300\n",
      "3587/3587 [==============================] - 1s 167us/step - loss: 0.3500 - acc: 0.8442 - val_loss: 0.9984 - val_acc: 0.6945\n",
      "Epoch 206/300\n",
      "3587/3587 [==============================] - 1s 186us/step - loss: 0.3484 - acc: 0.8468 - val_loss: 1.0114 - val_acc: 0.6990\n",
      "Epoch 207/300\n",
      "3587/3587 [==============================] - 1s 162us/step - loss: 0.3428 - acc: 0.8444 - val_loss: 1.0272 - val_acc: 0.7035\n",
      "Epoch 208/300\n",
      "3587/3587 [==============================] - 1s 190us/step - loss: 0.3507 - acc: 0.8458 - val_loss: 1.0191 - val_acc: 0.6957\n",
      "Epoch 209/300\n",
      "3587/3587 [==============================] - 1s 178us/step - loss: 0.3532 - acc: 0.8443 - val_loss: 0.9858 - val_acc: 0.7023\n",
      "Epoch 210/300\n",
      "3587/3587 [==============================] - 1s 163us/step - loss: 0.3605 - acc: 0.8361 - val_loss: 0.9642 - val_acc: 0.7035\n",
      "Epoch 211/300\n",
      "3587/3587 [==============================] - 1s 177us/step - loss: 0.3452 - acc: 0.8447 - val_loss: 0.9846 - val_acc: 0.7046\n",
      "Epoch 212/300\n",
      "3587/3587 [==============================] - 1s 180us/step - loss: 0.3470 - acc: 0.8433 - val_loss: 0.9758 - val_acc: 0.6979\n",
      "Epoch 213/300\n",
      "3587/3587 [==============================] - 1s 190us/step - loss: 0.3433 - acc: 0.8456 - val_loss: 1.0314 - val_acc: 0.6968\n",
      "Epoch 214/300\n",
      "3587/3587 [==============================] - 1s 173us/step - loss: 0.3399 - acc: 0.8472 - val_loss: 1.0092 - val_acc: 0.6945\n",
      "Epoch 215/300\n",
      "3587/3587 [==============================] - 1s 185us/step - loss: 0.3602 - acc: 0.8403 - val_loss: 0.9740 - val_acc: 0.7012\n",
      "Epoch 216/300\n",
      "3587/3587 [==============================] - 1s 180us/step - loss: 0.3380 - acc: 0.8461 - val_loss: 1.0136 - val_acc: 0.7001\n",
      "Epoch 217/300\n",
      "3587/3587 [==============================] - 1s 179us/step - loss: 0.3512 - acc: 0.8394 - val_loss: 1.0172 - val_acc: 0.7023\n",
      "Epoch 218/300\n",
      "3587/3587 [==============================] - 1s 184us/step - loss: 0.3464 - acc: 0.8444 - val_loss: 0.9846 - val_acc: 0.6979\n",
      "Epoch 219/300\n",
      "3587/3587 [==============================] - 1s 179us/step - loss: 0.3416 - acc: 0.8467 - val_loss: 1.0193 - val_acc: 0.7101\n",
      "Epoch 220/300\n",
      "3587/3587 [==============================] - 1s 182us/step - loss: 0.3486 - acc: 0.8408 - val_loss: 1.0528 - val_acc: 0.7035\n",
      "Epoch 221/300\n",
      "3587/3587 [==============================] - 1s 185us/step - loss: 0.3491 - acc: 0.8403 - val_loss: 1.0043 - val_acc: 0.7012\n",
      "Epoch 222/300\n",
      "3587/3587 [==============================] - 1s 180us/step - loss: 0.3513 - acc: 0.8383 - val_loss: 1.0138 - val_acc: 0.7135\n",
      "Epoch 223/300\n",
      "3587/3587 [==============================] - 1s 182us/step - loss: 0.3487 - acc: 0.8414 - val_loss: 0.9795 - val_acc: 0.7057\n",
      "Epoch 224/300\n",
      "3587/3587 [==============================] - 1s 177us/step - loss: 0.3309 - acc: 0.8506 - val_loss: 1.0371 - val_acc: 0.6968\n",
      "Epoch 225/300\n",
      "3587/3587 [==============================] - 1s 181us/step - loss: 0.3396 - acc: 0.8444 - val_loss: 1.0101 - val_acc: 0.7012\n",
      "Epoch 226/300\n",
      "3587/3587 [==============================] - 1s 182us/step - loss: 0.3504 - acc: 0.8414 - val_loss: 1.0277 - val_acc: 0.6890\n",
      "Epoch 227/300\n",
      "3587/3587 [==============================] - 1s 184us/step - loss: 0.3441 - acc: 0.8430 - val_loss: 1.0221 - val_acc: 0.6990\n",
      "Epoch 228/300\n",
      "3587/3587 [==============================] - 1s 183us/step - loss: 0.3480 - acc: 0.8461 - val_loss: 1.0713 - val_acc: 0.6979\n",
      "Epoch 229/300\n",
      "3587/3587 [==============================] - 1s 177us/step - loss: 0.3481 - acc: 0.8444 - val_loss: 1.0291 - val_acc: 0.7057\n",
      "Epoch 230/300\n",
      "3587/3587 [==============================] - 1s 183us/step - loss: 0.3493 - acc: 0.8442 - val_loss: 1.0431 - val_acc: 0.7057\n",
      "Epoch 231/300\n",
      "3587/3587 [==============================] - 1s 184us/step - loss: 0.3519 - acc: 0.8379 - val_loss: 1.0356 - val_acc: 0.6934\n",
      "Epoch 232/300\n",
      "3587/3587 [==============================] - 1s 185us/step - loss: 0.3469 - acc: 0.8458 - val_loss: 1.0423 - val_acc: 0.7035\n",
      "Epoch 233/300\n",
      "3587/3587 [==============================] - 1s 181us/step - loss: 0.3383 - acc: 0.8506 - val_loss: 1.0358 - val_acc: 0.7035\n",
      "Epoch 234/300\n",
      "3587/3587 [==============================] - 1s 183us/step - loss: 0.3464 - acc: 0.8469 - val_loss: 1.0744 - val_acc: 0.6990\n",
      "Epoch 235/300\n",
      "3587/3587 [==============================] - 1s 186us/step - loss: 0.3477 - acc: 0.8439 - val_loss: 1.0357 - val_acc: 0.7023\n",
      "Epoch 236/300\n",
      "3587/3587 [==============================] - 1s 183us/step - loss: 0.3360 - acc: 0.8483 - val_loss: 1.0455 - val_acc: 0.7001\n",
      "Epoch 237/300\n"
     ]
    },
    {
     "name": "stdout",
     "output_type": "stream",
     "text": [
      "3587/3587 [==============================] - 1s 188us/step - loss: 0.3360 - acc: 0.8458 - val_loss: 1.0655 - val_acc: 0.7012\n",
      "Epoch 238/300\n",
      "3587/3587 [==============================] - 1s 160us/step - loss: 0.3395 - acc: 0.8467 - val_loss: 1.0564 - val_acc: 0.7012\n",
      "Epoch 239/300\n",
      "3587/3587 [==============================] - 1s 182us/step - loss: 0.3574 - acc: 0.8403 - val_loss: 1.0192 - val_acc: 0.7113\n",
      "Epoch 240/300\n",
      "3587/3587 [==============================] - 1s 165us/step - loss: 0.3513 - acc: 0.8430 - val_loss: 1.0233 - val_acc: 0.6934\n",
      "Epoch 241/300\n",
      "3587/3587 [==============================] - 1s 180us/step - loss: 0.3589 - acc: 0.8422 - val_loss: 1.0288 - val_acc: 0.7001\n",
      "Epoch 242/300\n",
      "3587/3587 [==============================] - 1s 169us/step - loss: 0.3524 - acc: 0.8394 - val_loss: 1.0146 - val_acc: 0.7001\n",
      "Epoch 243/300\n",
      "3587/3587 [==============================] - 1s 179us/step - loss: 0.3408 - acc: 0.8475 - val_loss: 1.0275 - val_acc: 0.7012\n",
      "Epoch 244/300\n",
      "3587/3587 [==============================] - 1s 184us/step - loss: 0.3307 - acc: 0.8522 - val_loss: 1.0545 - val_acc: 0.7023\n",
      "Epoch 245/300\n",
      "3587/3587 [==============================] - 1s 177us/step - loss: 0.3414 - acc: 0.8461 - val_loss: 1.0400 - val_acc: 0.7046\n",
      "Epoch 246/300\n",
      "3587/3587 [==============================] - 1s 179us/step - loss: 0.3324 - acc: 0.8492 - val_loss: 1.0469 - val_acc: 0.7001\n",
      "Epoch 247/300\n",
      "3587/3587 [==============================] - 1s 170us/step - loss: 0.3465 - acc: 0.8447 - val_loss: 1.0123 - val_acc: 0.7012\n",
      "Epoch 248/300\n",
      "3587/3587 [==============================] - 1s 174us/step - loss: 0.3400 - acc: 0.8506 - val_loss: 1.0350 - val_acc: 0.7012\n",
      "Epoch 249/300\n",
      "3587/3587 [==============================] - 1s 183us/step - loss: 0.3425 - acc: 0.8500 - val_loss: 1.0474 - val_acc: 0.6968\n",
      "Epoch 250/300\n",
      "3587/3587 [==============================] - 1s 182us/step - loss: 0.3380 - acc: 0.8495 - val_loss: 1.0035 - val_acc: 0.7135\n",
      "Epoch 251/300\n",
      "3587/3587 [==============================] - 1s 177us/step - loss: 0.3449 - acc: 0.8458 - val_loss: 1.0498 - val_acc: 0.7046\n",
      "Epoch 252/300\n",
      "3587/3587 [==============================] - 1s 183us/step - loss: 0.3394 - acc: 0.8492 - val_loss: 1.0498 - val_acc: 0.7079\n",
      "Epoch 253/300\n",
      "3587/3587 [==============================] - 1s 180us/step - loss: 0.3468 - acc: 0.8439 - val_loss: 1.0557 - val_acc: 0.6945\n",
      "Epoch 254/300\n",
      "3587/3587 [==============================] - 1s 177us/step - loss: 0.3383 - acc: 0.8430 - val_loss: 1.1077 - val_acc: 0.7012\n",
      "Epoch 255/300\n",
      "3587/3587 [==============================] - 1s 175us/step - loss: 0.3374 - acc: 0.8469 - val_loss: 1.0678 - val_acc: 0.6968\n",
      "Epoch 256/300\n",
      "3587/3587 [==============================] - 1s 187us/step - loss: 0.3420 - acc: 0.8439 - val_loss: 1.0279 - val_acc: 0.6990\n",
      "Epoch 257/300\n",
      "3587/3587 [==============================] - 1s 180us/step - loss: 0.3432 - acc: 0.8475 - val_loss: 1.0509 - val_acc: 0.7046\n",
      "Epoch 258/300\n",
      "3587/3587 [==============================] - 1s 175us/step - loss: 0.3370 - acc: 0.8489 - val_loss: 1.0480 - val_acc: 0.7046\n",
      "Epoch 259/300\n",
      "3587/3587 [==============================] - 1s 184us/step - loss: 0.3315 - acc: 0.8528 - val_loss: 1.0295 - val_acc: 0.7046\n",
      "Epoch 260/300\n",
      "3587/3587 [==============================] - 1s 175us/step - loss: 0.3392 - acc: 0.8483 - val_loss: 1.0695 - val_acc: 0.7012\n",
      "Epoch 261/300\n",
      "3587/3587 [==============================] - 1s 213us/step - loss: 0.3492 - acc: 0.8456 - val_loss: 1.0564 - val_acc: 0.7090\n",
      "Epoch 262/300\n",
      "3587/3587 [==============================] - 1s 205us/step - loss: 0.3625 - acc: 0.8397 - val_loss: 1.0696 - val_acc: 0.7046\n",
      "Epoch 263/300\n",
      "3587/3587 [==============================] - 1s 300us/step - loss: 0.3443 - acc: 0.8436 - val_loss: 1.0430 - val_acc: 0.7057\n",
      "Epoch 264/300\n",
      "3587/3587 [==============================] - 1s 192us/step - loss: 0.3399 - acc: 0.8483 - val_loss: 1.0695 - val_acc: 0.7090\n",
      "Epoch 265/300\n",
      "3587/3587 [==============================] - 1s 195us/step - loss: 0.3387 - acc: 0.8478 - val_loss: 1.0851 - val_acc: 0.7046\n",
      "Epoch 266/300\n",
      "3587/3587 [==============================] - 1s 183us/step - loss: 0.3322 - acc: 0.8481 - val_loss: 1.0759 - val_acc: 0.7023\n",
      "Epoch 267/300\n",
      "3587/3587 [==============================] - 1s 179us/step - loss: 0.3314 - acc: 0.8514 - val_loss: 1.0518 - val_acc: 0.7046\n",
      "Epoch 268/300\n",
      "3587/3587 [==============================] - 1s 175us/step - loss: 0.3251 - acc: 0.8531 - val_loss: 1.1175 - val_acc: 0.7046\n",
      "Epoch 269/300\n",
      "3587/3587 [==============================] - 1s 183us/step - loss: 0.3426 - acc: 0.8461 - val_loss: 1.0744 - val_acc: 0.7035\n",
      "Epoch 270/300\n",
      "3587/3587 [==============================] - 1s 183us/step - loss: 0.3373 - acc: 0.8475 - val_loss: 1.0533 - val_acc: 0.7046\n",
      "Epoch 271/300\n",
      "3587/3587 [==============================] - 1s 180us/step - loss: 0.3434 - acc: 0.8436 - val_loss: 1.0661 - val_acc: 0.7068\n",
      "Epoch 272/300\n",
      "3587/3587 [==============================] - 1s 178us/step - loss: 0.3369 - acc: 0.8482 - val_loss: 1.0873 - val_acc: 0.7023\n",
      "Epoch 273/300\n",
      "3587/3587 [==============================] - 1s 181us/step - loss: 0.3378 - acc: 0.8472 - val_loss: 1.0723 - val_acc: 0.6957\n",
      "Epoch 274/300\n",
      "3587/3587 [==============================] - 1s 181us/step - loss: 0.3409 - acc: 0.8444 - val_loss: 1.0985 - val_acc: 0.7057\n",
      "Epoch 275/300\n",
      "3587/3587 [==============================] - 1s 172us/step - loss: 0.3416 - acc: 0.8467 - val_loss: 1.0915 - val_acc: 0.7012\n",
      "Epoch 276/300\n",
      "3587/3587 [==============================] - 1s 180us/step - loss: 0.3312 - acc: 0.8509 - val_loss: 1.0807 - val_acc: 0.7079\n",
      "Epoch 277/300\n",
      "3587/3587 [==============================] - 1s 180us/step - loss: 0.3402 - acc: 0.8444 - val_loss: 1.0806 - val_acc: 0.7046\n",
      "Epoch 278/300\n",
      "3587/3587 [==============================] - 1s 179us/step - loss: 0.3410 - acc: 0.8469 - val_loss: 1.0475 - val_acc: 0.6979\n",
      "Epoch 279/300\n",
      "3587/3587 [==============================] - 1s 185us/step - loss: 0.3349 - acc: 0.8464 - val_loss: 1.0445 - val_acc: 0.7068\n",
      "Epoch 280/300\n",
      "3587/3587 [==============================] - 1s 182us/step - loss: 0.3388 - acc: 0.8453 - val_loss: 1.0825 - val_acc: 0.6957\n",
      "Epoch 281/300\n",
      "3587/3587 [==============================] - 1s 183us/step - loss: 0.3452 - acc: 0.8428 - val_loss: 1.0884 - val_acc: 0.7046\n",
      "Epoch 282/300\n",
      "3587/3587 [==============================] - 1s 165us/step - loss: 0.3301 - acc: 0.8495 - val_loss: 1.0897 - val_acc: 0.7001\n",
      "Epoch 283/300\n",
      "3587/3587 [==============================] - 1s 164us/step - loss: 0.3347 - acc: 0.8497 - val_loss: 1.0983 - val_acc: 0.7090\n",
      "Epoch 284/300\n",
      "3587/3587 [==============================] - 1s 166us/step - loss: 0.3359 - acc: 0.8506 - val_loss: 1.1498 - val_acc: 0.7012\n",
      "Epoch 285/300\n",
      "3587/3587 [==============================] - 1s 165us/step - loss: 0.3469 - acc: 0.8436 - val_loss: 1.0926 - val_acc: 0.6934\n",
      "Epoch 286/300\n",
      "3587/3587 [==============================] - 1s 163us/step - loss: 0.3315 - acc: 0.8500 - val_loss: 1.0905 - val_acc: 0.7023\n",
      "Epoch 287/300\n",
      "3587/3587 [==============================] - 1s 164us/step - loss: 0.3309 - acc: 0.8511 - val_loss: 1.0920 - val_acc: 0.6979\n",
      "Epoch 288/300\n",
      "3587/3587 [==============================] - 1s 166us/step - loss: 0.3357 - acc: 0.8464 - val_loss: 1.1290 - val_acc: 0.6990\n",
      "Epoch 289/300\n",
      "3587/3587 [==============================] - 1s 166us/step - loss: 0.3507 - acc: 0.8419 - val_loss: 1.0758 - val_acc: 0.7057\n",
      "Epoch 290/300\n",
      "3587/3587 [==============================] - 1s 164us/step - loss: 0.3577 - acc: 0.8430 - val_loss: 1.0904 - val_acc: 0.7113\n",
      "Epoch 291/300\n",
      "3587/3587 [==============================] - 1s 165us/step - loss: 0.3390 - acc: 0.8439 - val_loss: 1.0916 - val_acc: 0.7046\n",
      "Epoch 292/300\n",
      "3587/3587 [==============================] - 1s 168us/step - loss: 0.3340 - acc: 0.8525 - val_loss: 1.1123 - val_acc: 0.7035\n",
      "Epoch 293/300\n",
      "3587/3587 [==============================] - 1s 169us/step - loss: 0.3346 - acc: 0.8517 - val_loss: 1.0972 - val_acc: 0.6923\n",
      "Epoch 294/300\n",
      "3587/3587 [==============================] - 1s 165us/step - loss: 0.3375 - acc: 0.8488 - val_loss: 1.1246 - val_acc: 0.6990\n",
      "Epoch 295/300\n",
      "3587/3587 [==============================] - 1s 164us/step - loss: 0.3377 - acc: 0.8500 - val_loss: 1.1100 - val_acc: 0.6968\n",
      "Epoch 296/300\n"
     ]
    },
    {
     "name": "stdout",
     "output_type": "stream",
     "text": [
      "3587/3587 [==============================] - 1s 151us/step - loss: 0.3314 - acc: 0.8482 - val_loss: 1.0982 - val_acc: 0.6901\n",
      "Epoch 297/300\n",
      "3587/3587 [==============================] - 1s 142us/step - loss: 0.3250 - acc: 0.8548 - val_loss: 1.1140 - val_acc: 0.6968\n",
      "Epoch 298/300\n",
      "3587/3587 [==============================] - 1s 145us/step - loss: 0.3371 - acc: 0.8500 - val_loss: 1.1270 - val_acc: 0.7057\n",
      "Epoch 299/300\n",
      "3587/3587 [==============================] - 1s 146us/step - loss: 0.3418 - acc: 0.8478 - val_loss: 1.1573 - val_acc: 0.6990\n",
      "Epoch 300/300\n",
      "3587/3587 [==============================] - 1s 146us/step - loss: 0.3353 - acc: 0.8478 - val_loss: 1.0504 - val_acc: 0.7001\n"
     ]
    }
   ],
   "source": [
    "checker = classifier.fit(X_train, Y_train, batch_size=32, epochs=300, validation_data = (X_test, Y_test))"
   ]
  },
  {
   "cell_type": "code",
   "execution_count": null,
   "metadata": {
    "collapsed": true
   },
   "outputs": [],
   "source": []
  }
 ],
 "metadata": {
  "kernelspec": {
   "display_name": "Python 3",
   "language": "python",
   "name": "python3"
  },
  "language_info": {
   "codemirror_mode": {
    "name": "ipython",
    "version": 3
   },
   "file_extension": ".py",
   "mimetype": "text/x-python",
   "name": "python",
   "nbconvert_exporter": "python",
   "pygments_lexer": "ipython3",
   "version": "3.6.3"
  }
 },
 "nbformat": 4,
 "nbformat_minor": 2
}
